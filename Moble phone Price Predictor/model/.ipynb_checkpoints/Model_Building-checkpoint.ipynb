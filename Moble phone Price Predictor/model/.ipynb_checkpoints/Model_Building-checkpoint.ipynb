{
 "cells": [
  {
   "cell_type": "markdown",
   "id": "5e36f604-38d5-4272-b2d8-8df23becb37b",
   "metadata": {},
   "source": [
    "## Data Analysis"
   ]
  },
  {
   "cell_type": "code",
   "execution_count": 46,
   "id": "b026266e-b26d-4317-9896-f99747c4ba2b",
   "metadata": {},
   "outputs": [],
   "source": [
    "import numpy as np\n",
    "import pandas as pd"
   ]
  },
  {
   "cell_type": "code",
   "execution_count": 47,
   "id": "3a035d98-5769-40b9-8fb0-eb762227cafe",
   "metadata": {},
   "outputs": [
    {
     "data": {
      "text/html": [
       "<div>\n",
       "<style scoped>\n",
       "    .dataframe tbody tr th:only-of-type {\n",
       "        vertical-align: middle;\n",
       "    }\n",
       "\n",
       "    .dataframe tbody tr th {\n",
       "        vertical-align: top;\n",
       "    }\n",
       "\n",
       "    .dataframe thead th {\n",
       "        text-align: right;\n",
       "    }\n",
       "</style>\n",
       "<table border=\"1\" class=\"dataframe\">\n",
       "  <thead>\n",
       "    <tr style=\"text-align: right;\">\n",
       "      <th></th>\n",
       "      <th>Brand</th>\n",
       "      <th>Ratings</th>\n",
       "      <th>RAM</th>\n",
       "      <th>ROM</th>\n",
       "      <th>Mobile_Size</th>\n",
       "      <th>Primary_Cam</th>\n",
       "      <th>Selfi_Cam</th>\n",
       "      <th>Battery_Power</th>\n",
       "      <th>Price($)</th>\n",
       "    </tr>\n",
       "  </thead>\n",
       "  <tbody>\n",
       "    <tr>\n",
       "      <th>0</th>\n",
       "      <td>Oppo  A17</td>\n",
       "      <td>4.3</td>\n",
       "      <td>4.0</td>\n",
       "      <td>64.0</td>\n",
       "      <td>6.4</td>\n",
       "      <td>64.0</td>\n",
       "      <td>48.0</td>\n",
       "      <td>6500.0</td>\n",
       "      <td>649</td>\n",
       "    </tr>\n",
       "    <tr>\n",
       "      <th>1</th>\n",
       "      <td>Vivo  Y81</td>\n",
       "      <td>3.4</td>\n",
       "      <td>4.0</td>\n",
       "      <td>48.0</td>\n",
       "      <td>5.8</td>\n",
       "      <td>64.0</td>\n",
       "      <td>48.0</td>\n",
       "      <td>5300.0</td>\n",
       "      <td>750</td>\n",
       "    </tr>\n",
       "    <tr>\n",
       "      <th>2</th>\n",
       "      <td>Redmi A9</td>\n",
       "      <td>4.3</td>\n",
       "      <td>4.0</td>\n",
       "      <td>64.0</td>\n",
       "      <td>6.1</td>\n",
       "      <td>48.0</td>\n",
       "      <td>32.0</td>\n",
       "      <td>4000.0</td>\n",
       "      <td>449</td>\n",
       "    </tr>\n",
       "    <tr>\n",
       "      <th>3</th>\n",
       "      <td>Samsung  Galaxy A50</td>\n",
       "      <td>4.4</td>\n",
       "      <td>4.0</td>\n",
       "      <td>64.0</td>\n",
       "      <td>6.4</td>\n",
       "      <td>48.0</td>\n",
       "      <td>32.0</td>\n",
       "      <td>5500.0</td>\n",
       "      <td>609</td>\n",
       "    </tr>\n",
       "    <tr>\n",
       "      <th>4</th>\n",
       "      <td>Nokia  415</td>\n",
       "      <td>4.5</td>\n",
       "      <td>2.0</td>\n",
       "      <td>24.0</td>\n",
       "      <td>3.7</td>\n",
       "      <td>16.0</td>\n",
       "      <td>12.0</td>\n",
       "      <td>3000.0</td>\n",
       "      <td>249</td>\n",
       "    </tr>\n",
       "  </tbody>\n",
       "</table>\n",
       "</div>"
      ],
      "text/plain": [
       "                   Brand  Ratings  RAM   ROM  Mobile_Size  Primary_Cam  \\\n",
       "0              Oppo  A17      4.3  4.0  64.0          6.4         64.0   \n",
       "1              Vivo  Y81      3.4  4.0  48.0          5.8         64.0   \n",
       "2               Redmi A9      4.3  4.0  64.0          6.1         48.0   \n",
       "3    Samsung  Galaxy A50      4.4  4.0  64.0          6.4         48.0   \n",
       "4             Nokia  415      4.5  2.0  24.0          3.7         16.0   \n",
       "\n",
       "   Selfi_Cam  Battery_Power  Price($)  \n",
       "0       48.0         6500.0       649  \n",
       "1       48.0         5300.0       750  \n",
       "2       32.0         4000.0       449  \n",
       "3       32.0         5500.0       609  \n",
       "4       12.0         3000.0       249  "
      ]
     },
     "execution_count": 47,
     "metadata": {},
     "output_type": "execute_result"
    }
   ],
   "source": [
    "data = pd.read_csv(\"fdm_dataset.csv\")\n",
    "data.head()"
   ]
  },
  {
   "cell_type": "code",
   "execution_count": 48,
   "id": "31ab6bd0-dc40-4a26-a350-e23592c7c88c",
   "metadata": {},
   "outputs": [
    {
     "data": {
      "text/plain": [
       "(1365, 9)"
      ]
     },
     "execution_count": 48,
     "metadata": {},
     "output_type": "execute_result"
    }
   ],
   "source": [
    "data.shape"
   ]
  },
  {
   "cell_type": "code",
   "execution_count": 49,
   "id": "67ba97ef-929d-4a69-8160-bec873c29b22",
   "metadata": {},
   "outputs": [
    {
     "data": {
      "text/plain": [
       "Brand              0\n",
       "Ratings           45\n",
       "RAM              101\n",
       "ROM               90\n",
       "Mobile_Size       94\n",
       "Primary_Cam      109\n",
       "Selfi_Cam        101\n",
       "Battery_Power    117\n",
       "Price($)           0\n",
       "dtype: int64"
      ]
     },
     "execution_count": 49,
     "metadata": {},
     "output_type": "execute_result"
    }
   ],
   "source": [
    "data.isnull().sum()"
   ]
  },
  {
   "cell_type": "code",
   "execution_count": 50,
   "id": "0ba4db2c-f9ac-4dea-88f2-de546da6486d",
   "metadata": {},
   "outputs": [
    {
     "data": {
      "text/plain": [
       "(799, 9)"
      ]
     },
     "execution_count": 50,
     "metadata": {},
     "output_type": "execute_result"
    }
   ],
   "source": [
    "# Remove Duplicate rows\n",
    "data = data.drop_duplicates()\n",
    "data.shape"
   ]
  },
  {
   "cell_type": "code",
   "execution_count": 51,
   "id": "6ec81134-f7ac-4818-a88a-98e1388df2f6",
   "metadata": {},
   "outputs": [
    {
     "data": {
      "text/plain": [
       "Brand              0\n",
       "Ratings           29\n",
       "RAM               95\n",
       "ROM               86\n",
       "Mobile_Size       86\n",
       "Primary_Cam      104\n",
       "Selfi_Cam         95\n",
       "Battery_Power    104\n",
       "Price($)           0\n",
       "dtype: int64"
      ]
     },
     "execution_count": 51,
     "metadata": {},
     "output_type": "execute_result"
    }
   ],
   "source": [
    "data.isnull().sum()"
   ]
  },
  {
   "cell_type": "code",
   "execution_count": 52,
   "id": "424512f6-bb8f-4b12-b121-d54d2724f4e5",
   "metadata": {},
   "outputs": [
    {
     "name": "stdout",
     "output_type": "stream",
     "text": [
      "<class 'pandas.core.frame.DataFrame'>\n",
      "Index: 799 entries, 0 to 1361\n",
      "Data columns (total 9 columns):\n",
      " #   Column         Non-Null Count  Dtype  \n",
      "---  ------         --------------  -----  \n",
      " 0   Brand          799 non-null    object \n",
      " 1   Ratings        770 non-null    float64\n",
      " 2   RAM            704 non-null    float64\n",
      " 3   ROM            713 non-null    float64\n",
      " 4   Mobile_Size    713 non-null    float64\n",
      " 5   Primary_Cam    695 non-null    float64\n",
      " 6   Selfi_Cam      704 non-null    float64\n",
      " 7   Battery_Power  695 non-null    float64\n",
      " 8   Price($)       799 non-null    int64  \n",
      "dtypes: float64(7), int64(1), object(1)\n",
      "memory usage: 62.4+ KB\n"
     ]
    }
   ],
   "source": [
    "# Details about dataset\n",
    "data.info()"
   ]
  },
  {
   "cell_type": "code",
   "execution_count": 53,
   "id": "4fbfd4f3-40db-4df7-b165-53a1f7bc52fe",
   "metadata": {},
   "outputs": [
    {
     "data": {
      "text/plain": [
       "Ratings         -0.033362\n",
       "RAM              0.500812\n",
       "ROM              0.597054\n",
       "Mobile_Size      0.792954\n",
       "Primary_Cam      0.781875\n",
       "Selfi_Cam        0.641601\n",
       "Battery_Power    0.848447\n",
       "Price($)         1.000000\n",
       "Name: Price($), dtype: float64"
      ]
     },
     "execution_count": 53,
     "metadata": {},
     "output_type": "execute_result"
    }
   ],
   "source": [
    "# Most related columns to price column\n",
    "data.corr(numeric_only = True)[\"Price($)\"]"
   ]
  },
  {
   "cell_type": "code",
   "execution_count": 54,
   "id": "2dae697a-fa7d-4ff6-97ef-f9f5bbfa4ee7",
   "metadata": {},
   "outputs": [
    {
     "data": {
      "text/plain": [
       "Brand\n",
       "  Vivo  V21               72\n",
       "  Vivo  Y81               68\n",
       "  Redmi A9                64\n",
       "  Nokia  415              64\n",
       "  Oppo  A17               63\n",
       "Redmi K20                 62\n",
       "  Oppo  A9                60\n",
       "  Nokia  216              57\n",
       "  Samsung  Galaxy A50     53\n",
       "  Apple iPhone 11 Pro     52\n",
       "  Samsung  Galaxy A70     51\n",
       "  Apple iPhone 12         45\n",
       "  Apple iPhone 11         44\n",
       "  Samsung  Galaxy S20+    44\n",
       "Name: count, dtype: int64"
      ]
     },
     "execution_count": 54,
     "metadata": {},
     "output_type": "execute_result"
    }
   ],
   "source": [
    "data['Brand'].value_counts()"
   ]
  },
  {
   "cell_type": "code",
   "execution_count": 10,
   "id": "6958db56-6d5e-488a-aa3d-e9ebc290d12b",
   "metadata": {},
   "outputs": [
    {
     "data": {
      "text/plain": [
       "14"
      ]
     },
     "execution_count": 10,
     "metadata": {},
     "output_type": "execute_result"
    }
   ],
   "source": [
    "# Number of columns\n",
    "len(data['Brand'].value_counts())"
   ]
  },
  {
   "cell_type": "code",
   "execution_count": 11,
   "id": "29df8d8a-bf7f-4a87-bbc4-1f51102e4b96",
   "metadata": {},
   "outputs": [
    {
     "data": {
      "text/html": [
       "<div>\n",
       "<style scoped>\n",
       "    .dataframe tbody tr th:only-of-type {\n",
       "        vertical-align: middle;\n",
       "    }\n",
       "\n",
       "    .dataframe tbody tr th {\n",
       "        vertical-align: top;\n",
       "    }\n",
       "\n",
       "    .dataframe thead th {\n",
       "        text-align: right;\n",
       "    }\n",
       "</style>\n",
       "<table border=\"1\" class=\"dataframe\">\n",
       "  <thead>\n",
       "    <tr style=\"text-align: right;\">\n",
       "      <th></th>\n",
       "      <th>Ratings</th>\n",
       "      <th>RAM</th>\n",
       "      <th>ROM</th>\n",
       "      <th>Mobile_Size</th>\n",
       "      <th>Primary_Cam</th>\n",
       "      <th>Selfi_Cam</th>\n",
       "      <th>Battery_Power</th>\n",
       "      <th>Price($)</th>\n",
       "    </tr>\n",
       "  </thead>\n",
       "  <tbody>\n",
       "    <tr>\n",
       "      <th>count</th>\n",
       "      <td>770.000000</td>\n",
       "      <td>704.000000</td>\n",
       "      <td>713.000000</td>\n",
       "      <td>713.000000</td>\n",
       "      <td>695.000000</td>\n",
       "      <td>704.000000</td>\n",
       "      <td>695.000000</td>\n",
       "      <td>799.000000</td>\n",
       "    </tr>\n",
       "    <tr>\n",
       "      <th>mean</th>\n",
       "      <td>4.073247</td>\n",
       "      <td>5.082386</td>\n",
       "      <td>89.402525</td>\n",
       "      <td>5.808135</td>\n",
       "      <td>47.539568</td>\n",
       "      <td>33.255682</td>\n",
       "      <td>5237.985612</td>\n",
       "      <td>675.405507</td>\n",
       "    </tr>\n",
       "    <tr>\n",
       "      <th>std</th>\n",
       "      <td>0.387967</td>\n",
       "      <td>1.833473</td>\n",
       "      <td>54.297628</td>\n",
       "      <td>0.973232</td>\n",
       "      <td>16.679236</td>\n",
       "      <td>13.175799</td>\n",
       "      <td>1279.159700</td>\n",
       "      <td>227.329116</td>\n",
       "    </tr>\n",
       "    <tr>\n",
       "      <th>min</th>\n",
       "      <td>2.800000</td>\n",
       "      <td>2.000000</td>\n",
       "      <td>16.000000</td>\n",
       "      <td>3.400000</td>\n",
       "      <td>12.000000</td>\n",
       "      <td>8.000000</td>\n",
       "      <td>2500.000000</td>\n",
       "      <td>149.000000</td>\n",
       "    </tr>\n",
       "    <tr>\n",
       "      <th>25%</th>\n",
       "      <td>3.800000</td>\n",
       "      <td>4.000000</td>\n",
       "      <td>64.000000</td>\n",
       "      <td>6.000000</td>\n",
       "      <td>48.000000</td>\n",
       "      <td>24.000000</td>\n",
       "      <td>5000.000000</td>\n",
       "      <td>609.000000</td>\n",
       "    </tr>\n",
       "    <tr>\n",
       "      <th>50%</th>\n",
       "      <td>4.100000</td>\n",
       "      <td>4.000000</td>\n",
       "      <td>64.000000</td>\n",
       "      <td>6.100000</td>\n",
       "      <td>48.000000</td>\n",
       "      <td>32.000000</td>\n",
       "      <td>5500.000000</td>\n",
       "      <td>749.000000</td>\n",
       "    </tr>\n",
       "    <tr>\n",
       "      <th>75%</th>\n",
       "      <td>4.400000</td>\n",
       "      <td>6.000000</td>\n",
       "      <td>128.000000</td>\n",
       "      <td>6.400000</td>\n",
       "      <td>64.000000</td>\n",
       "      <td>48.000000</td>\n",
       "      <td>6500.000000</td>\n",
       "      <td>849.000000</td>\n",
       "    </tr>\n",
       "    <tr>\n",
       "      <th>max</th>\n",
       "      <td>4.800000</td>\n",
       "      <td>8.000000</td>\n",
       "      <td>256.000000</td>\n",
       "      <td>6.500000</td>\n",
       "      <td>64.000000</td>\n",
       "      <td>48.000000</td>\n",
       "      <td>7000.000000</td>\n",
       "      <td>999.000000</td>\n",
       "    </tr>\n",
       "  </tbody>\n",
       "</table>\n",
       "</div>"
      ],
      "text/plain": [
       "          Ratings         RAM         ROM  Mobile_Size  Primary_Cam  \\\n",
       "count  770.000000  704.000000  713.000000   713.000000   695.000000   \n",
       "mean     4.073247    5.082386   89.402525     5.808135    47.539568   \n",
       "std      0.387967    1.833473   54.297628     0.973232    16.679236   \n",
       "min      2.800000    2.000000   16.000000     3.400000    12.000000   \n",
       "25%      3.800000    4.000000   64.000000     6.000000    48.000000   \n",
       "50%      4.100000    4.000000   64.000000     6.100000    48.000000   \n",
       "75%      4.400000    6.000000  128.000000     6.400000    64.000000   \n",
       "max      4.800000    8.000000  256.000000     6.500000    64.000000   \n",
       "\n",
       "        Selfi_Cam  Battery_Power    Price($)  \n",
       "count  704.000000     695.000000  799.000000  \n",
       "mean    33.255682    5237.985612  675.405507  \n",
       "std     13.175799    1279.159700  227.329116  \n",
       "min      8.000000    2500.000000  149.000000  \n",
       "25%     24.000000    5000.000000  609.000000  \n",
       "50%     32.000000    5500.000000  749.000000  \n",
       "75%     48.000000    6500.000000  849.000000  \n",
       "max     48.000000    7000.000000  999.000000  "
      ]
     },
     "execution_count": 11,
     "metadata": {},
     "output_type": "execute_result"
    }
   ],
   "source": [
    "data.describe()"
   ]
  },
  {
   "cell_type": "code",
   "execution_count": 12,
   "id": "0bf87437-998d-4fc5-a62a-317bf2756ad3",
   "metadata": {},
   "outputs": [
    {
     "data": {
      "text/html": [
       "<div>\n",
       "<style scoped>\n",
       "    .dataframe tbody tr th:only-of-type {\n",
       "        vertical-align: middle;\n",
       "    }\n",
       "\n",
       "    .dataframe tbody tr th {\n",
       "        vertical-align: top;\n",
       "    }\n",
       "\n",
       "    .dataframe thead th {\n",
       "        text-align: right;\n",
       "    }\n",
       "</style>\n",
       "<table border=\"1\" class=\"dataframe\">\n",
       "  <thead>\n",
       "    <tr style=\"text-align: right;\">\n",
       "      <th></th>\n",
       "      <th>count</th>\n",
       "      <th>mean</th>\n",
       "      <th>std</th>\n",
       "      <th>min</th>\n",
       "      <th>25%</th>\n",
       "      <th>50%</th>\n",
       "      <th>75%</th>\n",
       "      <th>max</th>\n",
       "    </tr>\n",
       "    <tr>\n",
       "      <th>Brand</th>\n",
       "      <th></th>\n",
       "      <th></th>\n",
       "      <th></th>\n",
       "      <th></th>\n",
       "      <th></th>\n",
       "      <th></th>\n",
       "      <th></th>\n",
       "      <th></th>\n",
       "    </tr>\n",
       "  </thead>\n",
       "  <tbody>\n",
       "    <tr>\n",
       "      <th>Apple iPhone 11</th>\n",
       "      <td>40.0</td>\n",
       "      <td>4.650000</td>\n",
       "      <td>0.948683</td>\n",
       "      <td>4.0</td>\n",
       "      <td>4.0</td>\n",
       "      <td>4.0</td>\n",
       "      <td>6.0</td>\n",
       "      <td>6.0</td>\n",
       "    </tr>\n",
       "    <tr>\n",
       "      <th>Apple iPhone 11 Pro</th>\n",
       "      <td>41.0</td>\n",
       "      <td>4.536585</td>\n",
       "      <td>0.897150</td>\n",
       "      <td>4.0</td>\n",
       "      <td>4.0</td>\n",
       "      <td>4.0</td>\n",
       "      <td>6.0</td>\n",
       "      <td>6.0</td>\n",
       "    </tr>\n",
       "    <tr>\n",
       "      <th>Apple iPhone 12</th>\n",
       "      <td>38.0</td>\n",
       "      <td>5.000000</td>\n",
       "      <td>1.013423</td>\n",
       "      <td>4.0</td>\n",
       "      <td>4.0</td>\n",
       "      <td>5.0</td>\n",
       "      <td>6.0</td>\n",
       "      <td>6.0</td>\n",
       "    </tr>\n",
       "    <tr>\n",
       "      <th>Nokia  216</th>\n",
       "      <td>51.0</td>\n",
       "      <td>3.215686</td>\n",
       "      <td>0.986179</td>\n",
       "      <td>2.0</td>\n",
       "      <td>2.0</td>\n",
       "      <td>4.0</td>\n",
       "      <td>4.0</td>\n",
       "      <td>4.0</td>\n",
       "    </tr>\n",
       "    <tr>\n",
       "      <th>Nokia  415</th>\n",
       "      <td>59.0</td>\n",
       "      <td>3.084746</td>\n",
       "      <td>1.193201</td>\n",
       "      <td>2.0</td>\n",
       "      <td>2.0</td>\n",
       "      <td>4.0</td>\n",
       "      <td>4.0</td>\n",
       "      <td>8.0</td>\n",
       "    </tr>\n",
       "    <tr>\n",
       "      <th>Oppo  A17</th>\n",
       "      <td>52.0</td>\n",
       "      <td>5.307692</td>\n",
       "      <td>1.894662</td>\n",
       "      <td>4.0</td>\n",
       "      <td>4.0</td>\n",
       "      <td>4.0</td>\n",
       "      <td>8.0</td>\n",
       "      <td>8.0</td>\n",
       "    </tr>\n",
       "    <tr>\n",
       "      <th>Oppo  A9</th>\n",
       "      <td>53.0</td>\n",
       "      <td>6.188679</td>\n",
       "      <td>2.010134</td>\n",
       "      <td>4.0</td>\n",
       "      <td>4.0</td>\n",
       "      <td>8.0</td>\n",
       "      <td>8.0</td>\n",
       "      <td>8.0</td>\n",
       "    </tr>\n",
       "    <tr>\n",
       "      <th>Redmi A9</th>\n",
       "      <td>59.0</td>\n",
       "      <td>5.152542</td>\n",
       "      <td>0.996780</td>\n",
       "      <td>4.0</td>\n",
       "      <td>4.0</td>\n",
       "      <td>6.0</td>\n",
       "      <td>6.0</td>\n",
       "      <td>6.0</td>\n",
       "    </tr>\n",
       "    <tr>\n",
       "      <th>Samsung  Galaxy A50</th>\n",
       "      <td>48.0</td>\n",
       "      <td>6.000000</td>\n",
       "      <td>2.021165</td>\n",
       "      <td>4.0</td>\n",
       "      <td>4.0</td>\n",
       "      <td>6.0</td>\n",
       "      <td>8.0</td>\n",
       "      <td>8.0</td>\n",
       "    </tr>\n",
       "    <tr>\n",
       "      <th>Samsung  Galaxy A70</th>\n",
       "      <td>45.0</td>\n",
       "      <td>4.977778</td>\n",
       "      <td>1.738454</td>\n",
       "      <td>4.0</td>\n",
       "      <td>4.0</td>\n",
       "      <td>4.0</td>\n",
       "      <td>4.0</td>\n",
       "      <td>8.0</td>\n",
       "    </tr>\n",
       "    <tr>\n",
       "      <th>Samsung  Galaxy S20+</th>\n",
       "      <td>37.0</td>\n",
       "      <td>6.054054</td>\n",
       "      <td>2.026847</td>\n",
       "      <td>4.0</td>\n",
       "      <td>4.0</td>\n",
       "      <td>8.0</td>\n",
       "      <td>8.0</td>\n",
       "      <td>8.0</td>\n",
       "    </tr>\n",
       "    <tr>\n",
       "      <th>Vivo  V21</th>\n",
       "      <td>66.0</td>\n",
       "      <td>6.181818</td>\n",
       "      <td>2.006981</td>\n",
       "      <td>4.0</td>\n",
       "      <td>4.0</td>\n",
       "      <td>8.0</td>\n",
       "      <td>8.0</td>\n",
       "      <td>8.0</td>\n",
       "    </tr>\n",
       "    <tr>\n",
       "      <th>Vivo  Y81</th>\n",
       "      <td>59.0</td>\n",
       "      <td>5.186441</td>\n",
       "      <td>0.990900</td>\n",
       "      <td>4.0</td>\n",
       "      <td>4.0</td>\n",
       "      <td>6.0</td>\n",
       "      <td>6.0</td>\n",
       "      <td>6.0</td>\n",
       "    </tr>\n",
       "    <tr>\n",
       "      <th>Redmi K20</th>\n",
       "      <td>56.0</td>\n",
       "      <td>5.571429</td>\n",
       "      <td>1.971222</td>\n",
       "      <td>4.0</td>\n",
       "      <td>4.0</td>\n",
       "      <td>4.0</td>\n",
       "      <td>8.0</td>\n",
       "      <td>8.0</td>\n",
       "    </tr>\n",
       "  </tbody>\n",
       "</table>\n",
       "</div>"
      ],
      "text/plain": [
       "                        count      mean       std  min  25%  50%  75%  max\n",
       "Brand                                                                     \n",
       "  Apple iPhone 11        40.0  4.650000  0.948683  4.0  4.0  4.0  6.0  6.0\n",
       "  Apple iPhone 11 Pro    41.0  4.536585  0.897150  4.0  4.0  4.0  6.0  6.0\n",
       "  Apple iPhone 12        38.0  5.000000  1.013423  4.0  4.0  5.0  6.0  6.0\n",
       "  Nokia  216             51.0  3.215686  0.986179  2.0  2.0  4.0  4.0  4.0\n",
       "  Nokia  415             59.0  3.084746  1.193201  2.0  2.0  4.0  4.0  8.0\n",
       "  Oppo  A17              52.0  5.307692  1.894662  4.0  4.0  4.0  8.0  8.0\n",
       "  Oppo  A9               53.0  6.188679  2.010134  4.0  4.0  8.0  8.0  8.0\n",
       "  Redmi A9               59.0  5.152542  0.996780  4.0  4.0  6.0  6.0  6.0\n",
       "  Samsung  Galaxy A50    48.0  6.000000  2.021165  4.0  4.0  6.0  8.0  8.0\n",
       "  Samsung  Galaxy A70    45.0  4.977778  1.738454  4.0  4.0  4.0  4.0  8.0\n",
       "  Samsung  Galaxy S20+   37.0  6.054054  2.026847  4.0  4.0  8.0  8.0  8.0\n",
       "  Vivo  V21              66.0  6.181818  2.006981  4.0  4.0  8.0  8.0  8.0\n",
       "  Vivo  Y81              59.0  5.186441  0.990900  4.0  4.0  6.0  6.0  6.0\n",
       "Redmi K20                56.0  5.571429  1.971222  4.0  4.0  4.0  8.0  8.0"
      ]
     },
     "execution_count": 12,
     "metadata": {},
     "output_type": "execute_result"
    }
   ],
   "source": [
    "data.groupby('Brand')['RAM'].describe()"
   ]
  },
  {
   "cell_type": "code",
   "execution_count": 13,
   "id": "cec38c24-29b9-40df-801e-c38e03c353e0",
   "metadata": {},
   "outputs": [],
   "source": [
    "# Fill null values in the 'RAM' column with the mean 'RAM' value for the corresponding 'Brand' group\n",
    "data['RAM'] = data['RAM'].fillna(data.groupby('Brand')['RAM'].transform('mean'))"
   ]
  },
  {
   "cell_type": "code",
   "execution_count": 14,
   "id": "3e89f87f-1da1-40c9-bc03-dfb3ddbb3436",
   "metadata": {},
   "outputs": [
    {
     "data": {
      "text/html": [
       "<div>\n",
       "<style scoped>\n",
       "    .dataframe tbody tr th:only-of-type {\n",
       "        vertical-align: middle;\n",
       "    }\n",
       "\n",
       "    .dataframe tbody tr th {\n",
       "        vertical-align: top;\n",
       "    }\n",
       "\n",
       "    .dataframe thead th {\n",
       "        text-align: right;\n",
       "    }\n",
       "</style>\n",
       "<table border=\"1\" class=\"dataframe\">\n",
       "  <thead>\n",
       "    <tr style=\"text-align: right;\">\n",
       "      <th></th>\n",
       "      <th>Brand</th>\n",
       "      <th>Ratings</th>\n",
       "      <th>RAM</th>\n",
       "      <th>ROM</th>\n",
       "      <th>Mobile_Size</th>\n",
       "      <th>Primary_Cam</th>\n",
       "      <th>Selfi_Cam</th>\n",
       "      <th>Battery_Power</th>\n",
       "      <th>Price($)</th>\n",
       "    </tr>\n",
       "  </thead>\n",
       "  <tbody>\n",
       "    <tr>\n",
       "      <th>0</th>\n",
       "      <td>Oppo  A17</td>\n",
       "      <td>4.3</td>\n",
       "      <td>4.000000</td>\n",
       "      <td>64.0</td>\n",
       "      <td>6.4</td>\n",
       "      <td>64.0</td>\n",
       "      <td>48.0</td>\n",
       "      <td>6500.0</td>\n",
       "      <td>649</td>\n",
       "    </tr>\n",
       "    <tr>\n",
       "      <th>1</th>\n",
       "      <td>Vivo  Y81</td>\n",
       "      <td>3.4</td>\n",
       "      <td>4.000000</td>\n",
       "      <td>48.0</td>\n",
       "      <td>5.8</td>\n",
       "      <td>64.0</td>\n",
       "      <td>48.0</td>\n",
       "      <td>5300.0</td>\n",
       "      <td>750</td>\n",
       "    </tr>\n",
       "    <tr>\n",
       "      <th>2</th>\n",
       "      <td>Redmi A9</td>\n",
       "      <td>4.3</td>\n",
       "      <td>4.000000</td>\n",
       "      <td>64.0</td>\n",
       "      <td>6.1</td>\n",
       "      <td>48.0</td>\n",
       "      <td>32.0</td>\n",
       "      <td>4000.0</td>\n",
       "      <td>449</td>\n",
       "    </tr>\n",
       "    <tr>\n",
       "      <th>3</th>\n",
       "      <td>Samsung  Galaxy A50</td>\n",
       "      <td>4.4</td>\n",
       "      <td>4.000000</td>\n",
       "      <td>64.0</td>\n",
       "      <td>6.4</td>\n",
       "      <td>48.0</td>\n",
       "      <td>32.0</td>\n",
       "      <td>5500.0</td>\n",
       "      <td>609</td>\n",
       "    </tr>\n",
       "    <tr>\n",
       "      <th>4</th>\n",
       "      <td>Nokia  415</td>\n",
       "      <td>4.5</td>\n",
       "      <td>2.000000</td>\n",
       "      <td>24.0</td>\n",
       "      <td>3.7</td>\n",
       "      <td>16.0</td>\n",
       "      <td>12.0</td>\n",
       "      <td>3000.0</td>\n",
       "      <td>249</td>\n",
       "    </tr>\n",
       "    <tr>\n",
       "      <th>...</th>\n",
       "      <td>...</td>\n",
       "      <td>...</td>\n",
       "      <td>...</td>\n",
       "      <td>...</td>\n",
       "      <td>...</td>\n",
       "      <td>...</td>\n",
       "      <td>...</td>\n",
       "      <td>...</td>\n",
       "      <td>...</td>\n",
       "    </tr>\n",
       "    <tr>\n",
       "      <th>1342</th>\n",
       "      <td>Samsung  Galaxy A50</td>\n",
       "      <td>4.6</td>\n",
       "      <td>8.000000</td>\n",
       "      <td>NaN</td>\n",
       "      <td>6.4</td>\n",
       "      <td>48.0</td>\n",
       "      <td>32.0</td>\n",
       "      <td>5500.0</td>\n",
       "      <td>649</td>\n",
       "    </tr>\n",
       "    <tr>\n",
       "      <th>1343</th>\n",
       "      <td>Apple iPhone 11 Pro</td>\n",
       "      <td>4.1</td>\n",
       "      <td>4.536585</td>\n",
       "      <td>128.0</td>\n",
       "      <td>6.3</td>\n",
       "      <td>64.0</td>\n",
       "      <td>48.0</td>\n",
       "      <td>6500.0</td>\n",
       "      <td>999</td>\n",
       "    </tr>\n",
       "    <tr>\n",
       "      <th>1344</th>\n",
       "      <td>Samsung  Galaxy A50</td>\n",
       "      <td>4.6</td>\n",
       "      <td>8.000000</td>\n",
       "      <td>128.0</td>\n",
       "      <td>6.4</td>\n",
       "      <td>48.0</td>\n",
       "      <td>32.0</td>\n",
       "      <td>NaN</td>\n",
       "      <td>649</td>\n",
       "    </tr>\n",
       "    <tr>\n",
       "      <th>1360</th>\n",
       "      <td>Apple iPhone 12</td>\n",
       "      <td>3.5</td>\n",
       "      <td>6.000000</td>\n",
       "      <td>NaN</td>\n",
       "      <td>6.2</td>\n",
       "      <td>36.0</td>\n",
       "      <td>NaN</td>\n",
       "      <td>NaN</td>\n",
       "      <td>849</td>\n",
       "    </tr>\n",
       "    <tr>\n",
       "      <th>1361</th>\n",
       "      <td>Apple iPhone 11</td>\n",
       "      <td>4.3</td>\n",
       "      <td>6.000000</td>\n",
       "      <td>256.0</td>\n",
       "      <td>NaN</td>\n",
       "      <td>48.0</td>\n",
       "      <td>24.0</td>\n",
       "      <td>5500.0</td>\n",
       "      <td>999</td>\n",
       "    </tr>\n",
       "  </tbody>\n",
       "</table>\n",
       "<p>799 rows × 9 columns</p>\n",
       "</div>"
      ],
      "text/plain": [
       "                      Brand  Ratings       RAM    ROM  Mobile_Size  \\\n",
       "0                 Oppo  A17      4.3  4.000000   64.0          6.4   \n",
       "1                 Vivo  Y81      3.4  4.000000   48.0          5.8   \n",
       "2                  Redmi A9      4.3  4.000000   64.0          6.1   \n",
       "3       Samsung  Galaxy A50      4.4  4.000000   64.0          6.4   \n",
       "4                Nokia  415      4.5  2.000000   24.0          3.7   \n",
       "...                     ...      ...       ...    ...          ...   \n",
       "1342    Samsung  Galaxy A50      4.6  8.000000    NaN          6.4   \n",
       "1343    Apple iPhone 11 Pro      4.1  4.536585  128.0          6.3   \n",
       "1344    Samsung  Galaxy A50      4.6  8.000000  128.0          6.4   \n",
       "1360        Apple iPhone 12      3.5  6.000000    NaN          6.2   \n",
       "1361        Apple iPhone 11      4.3  6.000000  256.0          NaN   \n",
       "\n",
       "      Primary_Cam  Selfi_Cam  Battery_Power  Price($)  \n",
       "0            64.0       48.0         6500.0       649  \n",
       "1            64.0       48.0         5300.0       750  \n",
       "2            48.0       32.0         4000.0       449  \n",
       "3            48.0       32.0         5500.0       609  \n",
       "4            16.0       12.0         3000.0       249  \n",
       "...           ...        ...            ...       ...  \n",
       "1342         48.0       32.0         5500.0       649  \n",
       "1343         64.0       48.0         6500.0       999  \n",
       "1344         48.0       32.0            NaN       649  \n",
       "1360         36.0        NaN            NaN       849  \n",
       "1361         48.0       24.0         5500.0       999  \n",
       "\n",
       "[799 rows x 9 columns]"
      ]
     },
     "execution_count": 14,
     "metadata": {},
     "output_type": "execute_result"
    }
   ],
   "source": [
    "data"
   ]
  },
  {
   "cell_type": "code",
   "execution_count": 15,
   "id": "4e6fc86d-f5bb-4233-8b0e-54104b685d35",
   "metadata": {},
   "outputs": [
    {
     "data": {
      "text/plain": [
       "Brand              0\n",
       "Ratings           29\n",
       "RAM                0\n",
       "ROM               86\n",
       "Mobile_Size       86\n",
       "Primary_Cam      104\n",
       "Selfi_Cam         95\n",
       "Battery_Power    104\n",
       "Price($)           0\n",
       "dtype: int64"
      ]
     },
     "execution_count": 15,
     "metadata": {},
     "output_type": "execute_result"
    }
   ],
   "source": [
    "data.isnull().sum()"
   ]
  },
  {
   "cell_type": "code",
   "execution_count": 16,
   "id": "a2e66792-ae04-48bd-8ffe-b3ae894de0d5",
   "metadata": {},
   "outputs": [],
   "source": [
    "# Fill null values in the 'Mobile_Size' column with the mean 'Mobile_Size' value for the corresponding 'Brand' group\n",
    "data['Mobile_Size'] = data['Mobile_Size'].fillna(data.groupby('Brand')['Mobile_Size'].transform('mean'))"
   ]
  },
  {
   "cell_type": "code",
   "execution_count": 17,
   "id": "139a08b7-312c-41b9-ae28-8406b051d16d",
   "metadata": {},
   "outputs": [],
   "source": [
    "# Fill null values in the 'Battery_Power' column with the mean 'Battery_Power' value for the corresponding 'Brand' group\n",
    "data['Battery_Power'] = data['Battery_Power'].fillna(data.groupby('Brand')['Battery_Power'].transform('mean'))"
   ]
  },
  {
   "cell_type": "code",
   "execution_count": 18,
   "id": "a2e0d57e-9c1e-4976-a7d4-86a7031b88c6",
   "metadata": {},
   "outputs": [],
   "source": [
    "# fill null values in the 'ROM' column based on the mean 'ROM' value for each unique combination of 'Brand' and 'ROM'\n",
    "data['ROM'] = data['ROM'].fillna(data.groupby(['Brand','RAM'])['ROM'].transform('mean'))"
   ]
  },
  {
   "cell_type": "code",
   "execution_count": 19,
   "id": "4817bb90-2184-433b-abe5-62eb6c531fd6",
   "metadata": {},
   "outputs": [],
   "source": [
    "# Fill null values in the 'Primary_Cam' column with the mean 'Primary_Cam' value for the corresponding 'Brand' group\n",
    "data['Primary_Cam'] = data['Primary_Cam'].fillna(data.groupby('Brand')['Primary_Cam'].transform('mean'))"
   ]
  },
  {
   "cell_type": "code",
   "execution_count": 20,
   "id": "8e84d102-c717-4278-bd94-0a4acd7486b8",
   "metadata": {},
   "outputs": [],
   "source": [
    "# Fill null values in the 'Selfi_Cam' column with the mean 'Selfi_Cam' value for the corresponding 'Brand' group\n",
    "data['Selfi_Cam'] = data['Selfi_Cam'].fillna(data.groupby('Brand')['Selfi_Cam'].transform('mean'))"
   ]
  },
  {
   "cell_type": "code",
   "execution_count": 21,
   "id": "968e2360-f699-4815-a390-8784d807bbbc",
   "metadata": {},
   "outputs": [
    {
     "data": {
      "text/plain": [
       "Brand             0\n",
       "Ratings          29\n",
       "RAM               0\n",
       "ROM               0\n",
       "Mobile_Size       0\n",
       "Primary_Cam       0\n",
       "Selfi_Cam         0\n",
       "Battery_Power     0\n",
       "Price($)          0\n",
       "dtype: int64"
      ]
     },
     "execution_count": 21,
     "metadata": {},
     "output_type": "execute_result"
    }
   ],
   "source": [
    "data.isnull().sum()"
   ]
  },
  {
   "cell_type": "code",
   "execution_count": 22,
   "id": "08de73aa-e95f-4f87-bef9-2b760010e400",
   "metadata": {},
   "outputs": [],
   "source": [
    "data['Company'] = data['Brand'].apply(lambda x:\" \".join(x.split()[0:1]))"
   ]
  },
  {
   "cell_type": "code",
   "execution_count": 23,
   "id": "b829d752-7a68-4b5b-b126-77c1285b55b1",
   "metadata": {},
   "outputs": [
    {
     "data": {
      "text/plain": [
       "Company\n",
       "Samsung    148\n",
       "Apple      141\n",
       "Vivo       140\n",
       "Redmi      126\n",
       "Oppo       123\n",
       "Nokia      121\n",
       "Name: count, dtype: int64"
      ]
     },
     "execution_count": 23,
     "metadata": {},
     "output_type": "execute_result"
    }
   ],
   "source": [
    "data['Company'].value_counts()"
   ]
  },
  {
   "cell_type": "code",
   "execution_count": 24,
   "id": "a9fe921c-e499-48bd-8d2c-425a191056f5",
   "metadata": {},
   "outputs": [
    {
     "data": {
      "text/html": [
       "<div>\n",
       "<style scoped>\n",
       "    .dataframe tbody tr th:only-of-type {\n",
       "        vertical-align: middle;\n",
       "    }\n",
       "\n",
       "    .dataframe tbody tr th {\n",
       "        vertical-align: top;\n",
       "    }\n",
       "\n",
       "    .dataframe thead th {\n",
       "        text-align: right;\n",
       "    }\n",
       "</style>\n",
       "<table border=\"1\" class=\"dataframe\">\n",
       "  <thead>\n",
       "    <tr style=\"text-align: right;\">\n",
       "      <th></th>\n",
       "      <th>Brand</th>\n",
       "      <th>Ratings</th>\n",
       "      <th>RAM</th>\n",
       "      <th>ROM</th>\n",
       "      <th>Mobile_Size</th>\n",
       "      <th>Primary_Cam</th>\n",
       "      <th>Selfi_Cam</th>\n",
       "      <th>Battery_Power</th>\n",
       "      <th>Price($)</th>\n",
       "      <th>Company</th>\n",
       "    </tr>\n",
       "  </thead>\n",
       "  <tbody>\n",
       "    <tr>\n",
       "      <th>0</th>\n",
       "      <td>Oppo  A17</td>\n",
       "      <td>4.3</td>\n",
       "      <td>4.0</td>\n",
       "      <td>64.0</td>\n",
       "      <td>6.4</td>\n",
       "      <td>64.0</td>\n",
       "      <td>48.0</td>\n",
       "      <td>6500.0</td>\n",
       "      <td>649</td>\n",
       "      <td>Oppo</td>\n",
       "    </tr>\n",
       "    <tr>\n",
       "      <th>1</th>\n",
       "      <td>Vivo  Y81</td>\n",
       "      <td>3.4</td>\n",
       "      <td>4.0</td>\n",
       "      <td>48.0</td>\n",
       "      <td>5.8</td>\n",
       "      <td>64.0</td>\n",
       "      <td>48.0</td>\n",
       "      <td>5300.0</td>\n",
       "      <td>750</td>\n",
       "      <td>Vivo</td>\n",
       "    </tr>\n",
       "    <tr>\n",
       "      <th>2</th>\n",
       "      <td>Redmi A9</td>\n",
       "      <td>4.3</td>\n",
       "      <td>4.0</td>\n",
       "      <td>64.0</td>\n",
       "      <td>6.1</td>\n",
       "      <td>48.0</td>\n",
       "      <td>32.0</td>\n",
       "      <td>4000.0</td>\n",
       "      <td>449</td>\n",
       "      <td>Redmi</td>\n",
       "    </tr>\n",
       "    <tr>\n",
       "      <th>3</th>\n",
       "      <td>Samsung  Galaxy A50</td>\n",
       "      <td>4.4</td>\n",
       "      <td>4.0</td>\n",
       "      <td>64.0</td>\n",
       "      <td>6.4</td>\n",
       "      <td>48.0</td>\n",
       "      <td>32.0</td>\n",
       "      <td>5500.0</td>\n",
       "      <td>609</td>\n",
       "      <td>Samsung</td>\n",
       "    </tr>\n",
       "    <tr>\n",
       "      <th>4</th>\n",
       "      <td>Nokia  415</td>\n",
       "      <td>4.5</td>\n",
       "      <td>2.0</td>\n",
       "      <td>24.0</td>\n",
       "      <td>3.7</td>\n",
       "      <td>16.0</td>\n",
       "      <td>12.0</td>\n",
       "      <td>3000.0</td>\n",
       "      <td>249</td>\n",
       "      <td>Nokia</td>\n",
       "    </tr>\n",
       "  </tbody>\n",
       "</table>\n",
       "</div>"
      ],
      "text/plain": [
       "                   Brand  Ratings  RAM   ROM  Mobile_Size  Primary_Cam  \\\n",
       "0              Oppo  A17      4.3  4.0  64.0          6.4         64.0   \n",
       "1              Vivo  Y81      3.4  4.0  48.0          5.8         64.0   \n",
       "2               Redmi A9      4.3  4.0  64.0          6.1         48.0   \n",
       "3    Samsung  Galaxy A50      4.4  4.0  64.0          6.4         48.0   \n",
       "4             Nokia  415      4.5  2.0  24.0          3.7         16.0   \n",
       "\n",
       "   Selfi_Cam  Battery_Power  Price($)  Company  \n",
       "0       48.0         6500.0       649     Oppo  \n",
       "1       48.0         5300.0       750     Vivo  \n",
       "2       32.0         4000.0       449    Redmi  \n",
       "3       32.0         5500.0       609  Samsung  \n",
       "4       12.0         3000.0       249    Nokia  "
      ]
     },
     "execution_count": 24,
     "metadata": {},
     "output_type": "execute_result"
    }
   ],
   "source": [
    "data.head()"
   ]
  },
  {
   "cell_type": "code",
   "execution_count": 25,
   "id": "b05faf80-d52b-47a1-b794-88ce5f7cfcfa",
   "metadata": {},
   "outputs": [],
   "source": [
    "data = data.drop(columns=['Ratings'])"
   ]
  },
  {
   "cell_type": "code",
   "execution_count": 26,
   "id": "d23120e4-bf95-4604-96c6-68602af3d645",
   "metadata": {},
   "outputs": [
    {
     "data": {
      "text/html": [
       "<div>\n",
       "<style scoped>\n",
       "    .dataframe tbody tr th:only-of-type {\n",
       "        vertical-align: middle;\n",
       "    }\n",
       "\n",
       "    .dataframe tbody tr th {\n",
       "        vertical-align: top;\n",
       "    }\n",
       "\n",
       "    .dataframe thead th {\n",
       "        text-align: right;\n",
       "    }\n",
       "</style>\n",
       "<table border=\"1\" class=\"dataframe\">\n",
       "  <thead>\n",
       "    <tr style=\"text-align: right;\">\n",
       "      <th></th>\n",
       "      <th>Brand</th>\n",
       "      <th>RAM</th>\n",
       "      <th>ROM</th>\n",
       "      <th>Mobile_Size</th>\n",
       "      <th>Primary_Cam</th>\n",
       "      <th>Selfi_Cam</th>\n",
       "      <th>Battery_Power</th>\n",
       "      <th>Price($)</th>\n",
       "      <th>Company</th>\n",
       "    </tr>\n",
       "  </thead>\n",
       "  <tbody>\n",
       "    <tr>\n",
       "      <th>0</th>\n",
       "      <td>Oppo  A17</td>\n",
       "      <td>4.0</td>\n",
       "      <td>64.0</td>\n",
       "      <td>6.4</td>\n",
       "      <td>64.0</td>\n",
       "      <td>48.0</td>\n",
       "      <td>6500.0</td>\n",
       "      <td>649</td>\n",
       "      <td>Oppo</td>\n",
       "    </tr>\n",
       "    <tr>\n",
       "      <th>1</th>\n",
       "      <td>Vivo  Y81</td>\n",
       "      <td>4.0</td>\n",
       "      <td>48.0</td>\n",
       "      <td>5.8</td>\n",
       "      <td>64.0</td>\n",
       "      <td>48.0</td>\n",
       "      <td>5300.0</td>\n",
       "      <td>750</td>\n",
       "      <td>Vivo</td>\n",
       "    </tr>\n",
       "    <tr>\n",
       "      <th>2</th>\n",
       "      <td>Redmi A9</td>\n",
       "      <td>4.0</td>\n",
       "      <td>64.0</td>\n",
       "      <td>6.1</td>\n",
       "      <td>48.0</td>\n",
       "      <td>32.0</td>\n",
       "      <td>4000.0</td>\n",
       "      <td>449</td>\n",
       "      <td>Redmi</td>\n",
       "    </tr>\n",
       "    <tr>\n",
       "      <th>3</th>\n",
       "      <td>Samsung  Galaxy A50</td>\n",
       "      <td>4.0</td>\n",
       "      <td>64.0</td>\n",
       "      <td>6.4</td>\n",
       "      <td>48.0</td>\n",
       "      <td>32.0</td>\n",
       "      <td>5500.0</td>\n",
       "      <td>609</td>\n",
       "      <td>Samsung</td>\n",
       "    </tr>\n",
       "    <tr>\n",
       "      <th>4</th>\n",
       "      <td>Nokia  415</td>\n",
       "      <td>2.0</td>\n",
       "      <td>24.0</td>\n",
       "      <td>3.7</td>\n",
       "      <td>16.0</td>\n",
       "      <td>12.0</td>\n",
       "      <td>3000.0</td>\n",
       "      <td>249</td>\n",
       "      <td>Nokia</td>\n",
       "    </tr>\n",
       "  </tbody>\n",
       "</table>\n",
       "</div>"
      ],
      "text/plain": [
       "                   Brand  RAM   ROM  Mobile_Size  Primary_Cam  Selfi_Cam  \\\n",
       "0              Oppo  A17  4.0  64.0          6.4         64.0       48.0   \n",
       "1              Vivo  Y81  4.0  48.0          5.8         64.0       48.0   \n",
       "2               Redmi A9  4.0  64.0          6.1         48.0       32.0   \n",
       "3    Samsung  Galaxy A50  4.0  64.0          6.4         48.0       32.0   \n",
       "4             Nokia  415  2.0  24.0          3.7         16.0       12.0   \n",
       "\n",
       "   Battery_Power  Price($)  Company  \n",
       "0         6500.0       649     Oppo  \n",
       "1         5300.0       750     Vivo  \n",
       "2         4000.0       449    Redmi  \n",
       "3         5500.0       609  Samsung  \n",
       "4         3000.0       249    Nokia  "
      ]
     },
     "execution_count": 26,
     "metadata": {},
     "output_type": "execute_result"
    }
   ],
   "source": [
    "data.head()"
   ]
  },
  {
   "cell_type": "code",
   "execution_count": 27,
   "id": "7eacf767-042a-4d67-9b73-1a31fda0b73c",
   "metadata": {},
   "outputs": [],
   "source": [
    "my_data = data.drop(columns=['Brand'])"
   ]
  },
  {
   "cell_type": "code",
   "execution_count": 28,
   "id": "8d8af0f8-4503-4007-a005-b55374ae5130",
   "metadata": {},
   "outputs": [
    {
     "data": {
      "text/html": [
       "<div>\n",
       "<style scoped>\n",
       "    .dataframe tbody tr th:only-of-type {\n",
       "        vertical-align: middle;\n",
       "    }\n",
       "\n",
       "    .dataframe tbody tr th {\n",
       "        vertical-align: top;\n",
       "    }\n",
       "\n",
       "    .dataframe thead th {\n",
       "        text-align: right;\n",
       "    }\n",
       "</style>\n",
       "<table border=\"1\" class=\"dataframe\">\n",
       "  <thead>\n",
       "    <tr style=\"text-align: right;\">\n",
       "      <th></th>\n",
       "      <th>Brand</th>\n",
       "      <th>RAM</th>\n",
       "      <th>ROM</th>\n",
       "      <th>Mobile_Size</th>\n",
       "      <th>Primary_Cam</th>\n",
       "      <th>Selfi_Cam</th>\n",
       "      <th>Battery_Power</th>\n",
       "      <th>Price($)</th>\n",
       "      <th>Company</th>\n",
       "    </tr>\n",
       "  </thead>\n",
       "  <tbody>\n",
       "    <tr>\n",
       "      <th>0</th>\n",
       "      <td>Oppo  A17</td>\n",
       "      <td>4.0</td>\n",
       "      <td>64.0</td>\n",
       "      <td>6.4</td>\n",
       "      <td>64.0</td>\n",
       "      <td>48.0</td>\n",
       "      <td>6500.0</td>\n",
       "      <td>649</td>\n",
       "      <td>Oppo</td>\n",
       "    </tr>\n",
       "    <tr>\n",
       "      <th>1</th>\n",
       "      <td>Vivo  Y81</td>\n",
       "      <td>4.0</td>\n",
       "      <td>48.0</td>\n",
       "      <td>5.8</td>\n",
       "      <td>64.0</td>\n",
       "      <td>48.0</td>\n",
       "      <td>5300.0</td>\n",
       "      <td>750</td>\n",
       "      <td>Vivo</td>\n",
       "    </tr>\n",
       "    <tr>\n",
       "      <th>2</th>\n",
       "      <td>Redmi A9</td>\n",
       "      <td>4.0</td>\n",
       "      <td>64.0</td>\n",
       "      <td>6.1</td>\n",
       "      <td>48.0</td>\n",
       "      <td>32.0</td>\n",
       "      <td>4000.0</td>\n",
       "      <td>449</td>\n",
       "      <td>Redmi</td>\n",
       "    </tr>\n",
       "    <tr>\n",
       "      <th>3</th>\n",
       "      <td>Samsung  Galaxy A50</td>\n",
       "      <td>4.0</td>\n",
       "      <td>64.0</td>\n",
       "      <td>6.4</td>\n",
       "      <td>48.0</td>\n",
       "      <td>32.0</td>\n",
       "      <td>5500.0</td>\n",
       "      <td>609</td>\n",
       "      <td>Samsung</td>\n",
       "    </tr>\n",
       "    <tr>\n",
       "      <th>4</th>\n",
       "      <td>Nokia  415</td>\n",
       "      <td>2.0</td>\n",
       "      <td>24.0</td>\n",
       "      <td>3.7</td>\n",
       "      <td>16.0</td>\n",
       "      <td>12.0</td>\n",
       "      <td>3000.0</td>\n",
       "      <td>249</td>\n",
       "      <td>Nokia</td>\n",
       "    </tr>\n",
       "  </tbody>\n",
       "</table>\n",
       "</div>"
      ],
      "text/plain": [
       "                   Brand  RAM   ROM  Mobile_Size  Primary_Cam  Selfi_Cam  \\\n",
       "0              Oppo  A17  4.0  64.0          6.4         64.0       48.0   \n",
       "1              Vivo  Y81  4.0  48.0          5.8         64.0       48.0   \n",
       "2               Redmi A9  4.0  64.0          6.1         48.0       32.0   \n",
       "3    Samsung  Galaxy A50  4.0  64.0          6.4         48.0       32.0   \n",
       "4             Nokia  415  2.0  24.0          3.7         16.0       12.0   \n",
       "\n",
       "   Battery_Power  Price($)  Company  \n",
       "0         6500.0       649     Oppo  \n",
       "1         5300.0       750     Vivo  \n",
       "2         4000.0       449    Redmi  \n",
       "3         5500.0       609  Samsung  \n",
       "4         3000.0       249    Nokia  "
      ]
     },
     "execution_count": 28,
     "metadata": {},
     "output_type": "execute_result"
    }
   ],
   "source": [
    "data.head()"
   ]
  },
  {
   "cell_type": "code",
   "execution_count": 29,
   "id": "4d2ee663-0c96-4eee-8a60-b2980f78fe38",
   "metadata": {},
   "outputs": [
    {
     "data": {
      "text/html": [
       "<div>\n",
       "<style scoped>\n",
       "    .dataframe tbody tr th:only-of-type {\n",
       "        vertical-align: middle;\n",
       "    }\n",
       "\n",
       "    .dataframe tbody tr th {\n",
       "        vertical-align: top;\n",
       "    }\n",
       "\n",
       "    .dataframe thead th {\n",
       "        text-align: right;\n",
       "    }\n",
       "</style>\n",
       "<table border=\"1\" class=\"dataframe\">\n",
       "  <thead>\n",
       "    <tr style=\"text-align: right;\">\n",
       "      <th></th>\n",
       "      <th>RAM</th>\n",
       "      <th>ROM</th>\n",
       "      <th>Mobile_Size</th>\n",
       "      <th>Primary_Cam</th>\n",
       "      <th>Selfi_Cam</th>\n",
       "      <th>Battery_Power</th>\n",
       "      <th>Price($)</th>\n",
       "      <th>Company</th>\n",
       "    </tr>\n",
       "  </thead>\n",
       "  <tbody>\n",
       "    <tr>\n",
       "      <th>0</th>\n",
       "      <td>4.0</td>\n",
       "      <td>64.0</td>\n",
       "      <td>6.4</td>\n",
       "      <td>64.0</td>\n",
       "      <td>48.0</td>\n",
       "      <td>6500.0</td>\n",
       "      <td>649</td>\n",
       "      <td>Oppo</td>\n",
       "    </tr>\n",
       "    <tr>\n",
       "      <th>1</th>\n",
       "      <td>4.0</td>\n",
       "      <td>48.0</td>\n",
       "      <td>5.8</td>\n",
       "      <td>64.0</td>\n",
       "      <td>48.0</td>\n",
       "      <td>5300.0</td>\n",
       "      <td>750</td>\n",
       "      <td>Vivo</td>\n",
       "    </tr>\n",
       "    <tr>\n",
       "      <th>2</th>\n",
       "      <td>4.0</td>\n",
       "      <td>64.0</td>\n",
       "      <td>6.1</td>\n",
       "      <td>48.0</td>\n",
       "      <td>32.0</td>\n",
       "      <td>4000.0</td>\n",
       "      <td>449</td>\n",
       "      <td>Redmi</td>\n",
       "    </tr>\n",
       "    <tr>\n",
       "      <th>3</th>\n",
       "      <td>4.0</td>\n",
       "      <td>64.0</td>\n",
       "      <td>6.4</td>\n",
       "      <td>48.0</td>\n",
       "      <td>32.0</td>\n",
       "      <td>5500.0</td>\n",
       "      <td>609</td>\n",
       "      <td>Samsung</td>\n",
       "    </tr>\n",
       "    <tr>\n",
       "      <th>4</th>\n",
       "      <td>2.0</td>\n",
       "      <td>24.0</td>\n",
       "      <td>3.7</td>\n",
       "      <td>16.0</td>\n",
       "      <td>12.0</td>\n",
       "      <td>3000.0</td>\n",
       "      <td>249</td>\n",
       "      <td>Nokia</td>\n",
       "    </tr>\n",
       "  </tbody>\n",
       "</table>\n",
       "</div>"
      ],
      "text/plain": [
       "   RAM   ROM  Mobile_Size  Primary_Cam  Selfi_Cam  Battery_Power  Price($)  \\\n",
       "0  4.0  64.0          6.4         64.0       48.0         6500.0       649   \n",
       "1  4.0  48.0          5.8         64.0       48.0         5300.0       750   \n",
       "2  4.0  64.0          6.1         48.0       32.0         4000.0       449   \n",
       "3  4.0  64.0          6.4         48.0       32.0         5500.0       609   \n",
       "4  2.0  24.0          3.7         16.0       12.0         3000.0       249   \n",
       "\n",
       "   Company  \n",
       "0     Oppo  \n",
       "1     Vivo  \n",
       "2    Redmi  \n",
       "3  Samsung  \n",
       "4    Nokia  "
      ]
     },
     "execution_count": 29,
     "metadata": {},
     "output_type": "execute_result"
    }
   ],
   "source": [
    "my_data.head()"
   ]
  },
  {
   "cell_type": "code",
   "execution_count": 30,
   "id": "d4ea8f7d-fad2-4a23-b68b-c784f4b9b22c",
   "metadata": {},
   "outputs": [],
   "source": [
    "# one hot encoding\n",
    "my_data = pd.get_dummies(my_data)"
   ]
  },
  {
   "cell_type": "code",
   "execution_count": 31,
   "id": "119be499-3466-45f3-9492-3287d89ead7a",
   "metadata": {},
   "outputs": [
    {
     "data": {
      "text/html": [
       "<div>\n",
       "<style scoped>\n",
       "    .dataframe tbody tr th:only-of-type {\n",
       "        vertical-align: middle;\n",
       "    }\n",
       "\n",
       "    .dataframe tbody tr th {\n",
       "        vertical-align: top;\n",
       "    }\n",
       "\n",
       "    .dataframe thead th {\n",
       "        text-align: right;\n",
       "    }\n",
       "</style>\n",
       "<table border=\"1\" class=\"dataframe\">\n",
       "  <thead>\n",
       "    <tr style=\"text-align: right;\">\n",
       "      <th></th>\n",
       "      <th>RAM</th>\n",
       "      <th>ROM</th>\n",
       "      <th>Mobile_Size</th>\n",
       "      <th>Primary_Cam</th>\n",
       "      <th>Selfi_Cam</th>\n",
       "      <th>Battery_Power</th>\n",
       "      <th>Price($)</th>\n",
       "      <th>Company_Apple</th>\n",
       "      <th>Company_Nokia</th>\n",
       "      <th>Company_Oppo</th>\n",
       "      <th>Company_Redmi</th>\n",
       "      <th>Company_Samsung</th>\n",
       "      <th>Company_Vivo</th>\n",
       "    </tr>\n",
       "  </thead>\n",
       "  <tbody>\n",
       "    <tr>\n",
       "      <th>0</th>\n",
       "      <td>4.0</td>\n",
       "      <td>64.0</td>\n",
       "      <td>6.4</td>\n",
       "      <td>64.0</td>\n",
       "      <td>48.0</td>\n",
       "      <td>6500.0</td>\n",
       "      <td>649</td>\n",
       "      <td>False</td>\n",
       "      <td>False</td>\n",
       "      <td>True</td>\n",
       "      <td>False</td>\n",
       "      <td>False</td>\n",
       "      <td>False</td>\n",
       "    </tr>\n",
       "    <tr>\n",
       "      <th>1</th>\n",
       "      <td>4.0</td>\n",
       "      <td>48.0</td>\n",
       "      <td>5.8</td>\n",
       "      <td>64.0</td>\n",
       "      <td>48.0</td>\n",
       "      <td>5300.0</td>\n",
       "      <td>750</td>\n",
       "      <td>False</td>\n",
       "      <td>False</td>\n",
       "      <td>False</td>\n",
       "      <td>False</td>\n",
       "      <td>False</td>\n",
       "      <td>True</td>\n",
       "    </tr>\n",
       "    <tr>\n",
       "      <th>2</th>\n",
       "      <td>4.0</td>\n",
       "      <td>64.0</td>\n",
       "      <td>6.1</td>\n",
       "      <td>48.0</td>\n",
       "      <td>32.0</td>\n",
       "      <td>4000.0</td>\n",
       "      <td>449</td>\n",
       "      <td>False</td>\n",
       "      <td>False</td>\n",
       "      <td>False</td>\n",
       "      <td>True</td>\n",
       "      <td>False</td>\n",
       "      <td>False</td>\n",
       "    </tr>\n",
       "    <tr>\n",
       "      <th>3</th>\n",
       "      <td>4.0</td>\n",
       "      <td>64.0</td>\n",
       "      <td>6.4</td>\n",
       "      <td>48.0</td>\n",
       "      <td>32.0</td>\n",
       "      <td>5500.0</td>\n",
       "      <td>609</td>\n",
       "      <td>False</td>\n",
       "      <td>False</td>\n",
       "      <td>False</td>\n",
       "      <td>False</td>\n",
       "      <td>True</td>\n",
       "      <td>False</td>\n",
       "    </tr>\n",
       "    <tr>\n",
       "      <th>4</th>\n",
       "      <td>2.0</td>\n",
       "      <td>24.0</td>\n",
       "      <td>3.7</td>\n",
       "      <td>16.0</td>\n",
       "      <td>12.0</td>\n",
       "      <td>3000.0</td>\n",
       "      <td>249</td>\n",
       "      <td>False</td>\n",
       "      <td>True</td>\n",
       "      <td>False</td>\n",
       "      <td>False</td>\n",
       "      <td>False</td>\n",
       "      <td>False</td>\n",
       "    </tr>\n",
       "  </tbody>\n",
       "</table>\n",
       "</div>"
      ],
      "text/plain": [
       "   RAM   ROM  Mobile_Size  Primary_Cam  Selfi_Cam  Battery_Power  Price($)  \\\n",
       "0  4.0  64.0          6.4         64.0       48.0         6500.0       649   \n",
       "1  4.0  48.0          5.8         64.0       48.0         5300.0       750   \n",
       "2  4.0  64.0          6.1         48.0       32.0         4000.0       449   \n",
       "3  4.0  64.0          6.4         48.0       32.0         5500.0       609   \n",
       "4  2.0  24.0          3.7         16.0       12.0         3000.0       249   \n",
       "\n",
       "   Company_Apple  Company_Nokia  Company_Oppo  Company_Redmi  Company_Samsung  \\\n",
       "0          False          False          True          False            False   \n",
       "1          False          False         False          False            False   \n",
       "2          False          False         False           True            False   \n",
       "3          False          False         False          False             True   \n",
       "4          False           True         False          False            False   \n",
       "\n",
       "   Company_Vivo  \n",
       "0         False  \n",
       "1          True  \n",
       "2         False  \n",
       "3         False  \n",
       "4         False  "
      ]
     },
     "execution_count": 31,
     "metadata": {},
     "output_type": "execute_result"
    }
   ],
   "source": [
    "my_data.head()"
   ]
  },
  {
   "cell_type": "code",
   "execution_count": 32,
   "id": "57836a6b-b8ff-4f0c-9a94-23cbde709a2e",
   "metadata": {},
   "outputs": [
    {
     "data": {
      "text/plain": [
       "(799, 13)"
      ]
     },
     "execution_count": 32,
     "metadata": {},
     "output_type": "execute_result"
    }
   ],
   "source": [
    "my_data.shape"
   ]
  },
  {
   "cell_type": "code",
   "execution_count": null,
   "id": "05d41b82-a3b0-4855-ad6d-afa64bea5f57",
   "metadata": {},
   "outputs": [],
   "source": []
  },
  {
   "cell_type": "markdown",
   "id": "5cd2f81d-2b3d-4baf-b26a-c1cdeebfc64e",
   "metadata": {},
   "source": [
    "## Model Building"
   ]
  },
  {
   "cell_type": "code",
   "execution_count": 33,
   "id": "5ead49a0-edc3-47d7-bcfd-d7d4afa295a0",
   "metadata": {},
   "outputs": [],
   "source": [
    "# split data set into x and y\n",
    "x = my_data.drop('Price($)', axis=1)\n",
    "y = my_data['Price($)']"
   ]
  },
  {
   "cell_type": "code",
   "execution_count": 34,
   "id": "4e107a97-f3ad-4cb3-8213-8a727fab888e",
   "metadata": {},
   "outputs": [
    {
     "name": "stdout",
     "output_type": "stream",
     "text": [
      "Requirement already satisfied: sklearn in c:\\users\\gshpe\\appdata\\local\\programs\\python\\python311\\lib\\site-packages (0.0.post9)\n"
     ]
    },
    {
     "name": "stderr",
     "output_type": "stream",
     "text": [
      "\n",
      "[notice] A new release of pip is available: 23.2.1 -> 23.3\n",
      "[notice] To update, run: python.exe -m pip install --upgrade pip\n"
     ]
    }
   ],
   "source": [
    "!pip install sklearn"
   ]
  },
  {
   "cell_type": "code",
   "execution_count": 35,
   "id": "bd1e8168-802e-4e17-8fcb-ea36bbd4876d",
   "metadata": {},
   "outputs": [],
   "source": [
    "# split data sets into train and test\n",
    "from sklearn.model_selection import train_test_split\n",
    "x_train, x_test, y_train, y_test = train_test_split(x, y, test_size=0.25)"
   ]
  },
  {
   "cell_type": "code",
   "execution_count": 36,
   "id": "0251e838-1e1d-4522-86b6-772348515fdf",
   "metadata": {},
   "outputs": [
    {
     "data": {
      "text/plain": [
       "((599, 12), (200, 12))"
      ]
     },
     "execution_count": 36,
     "metadata": {},
     "output_type": "execute_result"
    }
   ],
   "source": [
    "x_train.shape, x_test.shape"
   ]
  },
  {
   "cell_type": "code",
   "execution_count": 37,
   "id": "0311fa9a-35cc-4f0b-be89-32d442c521be",
   "metadata": {},
   "outputs": [],
   "source": [
    "# Create a function to find accuray of a given model (with default hyper parameters)\n",
    "def model_acc(model):\n",
    "    model.fit(x_train, y_train)\n",
    "    acc = model.score(x_test, y_test)\n",
    "    print(str(model) + '-->' + str(acc))"
   ]
  },
  {
   "cell_type": "code",
   "execution_count": 38,
   "id": "2f342234-a0b8-445e-a4c1-e9e6f61885b1",
   "metadata": {},
   "outputs": [
    {
     "name": "stdout",
     "output_type": "stream",
     "text": [
      "LinearRegression()-->0.9841569615544035\n",
      "Lasso()-->0.9854502689868402\n",
      "DecisionTreeRegressor()-->0.9982337412700366\n",
      "RandomForestRegressor()-->0.9982700059367957\n"
     ]
    }
   ],
   "source": [
    "from sklearn.linear_model import LinearRegression\n",
    "lr = LinearRegression()\n",
    "model_acc(lr)\n",
    "\n",
    "from sklearn.linear_model import Lasso\n",
    "lasso = Lasso()\n",
    "model_acc(lasso)\n",
    "\n",
    "from sklearn.tree import DecisionTreeRegressor\n",
    "dt = DecisionTreeRegressor()\n",
    "model_acc(dt)\n",
    "\n",
    "from sklearn.ensemble import RandomForestRegressor\n",
    "rf = RandomForestRegressor()\n",
    "model_acc(rf)"
   ]
  },
  {
   "cell_type": "code",
   "execution_count": 39,
   "id": "cb36a36c-e811-4990-ad80-47dab4ceb3d5",
   "metadata": {},
   "outputs": [
    {
     "name": "stdout",
     "output_type": "stream",
     "text": [
      "{'criterion': 'squared_error', 'max_depth': 30, 'min_samples_leaf': 1, 'min_samples_split': 2, 'splitter': 'random'}\n",
      "DecisionTreeRegressor(max_depth=30, splitter='random')\n"
     ]
    }
   ],
   "source": [
    "# Hyper parameter tunning\n",
    "from sklearn.model_selection import GridSearchCV\n",
    "\n",
    "# parameters = {\n",
    "#     'criterion': ['mse', 'friedman_mse', 'mae'],  # You can adjust these criteria\n",
    "#     'splitter': ['best', 'random'],  # Splitting strategy\n",
    "#     'max_depth': [None, 10, 20, 30],  # Maximum depth of the tree\n",
    "#     'min_samples_split': [2, 5, 10],  # Minimum number of samples required to split an internal node\n",
    "#     'min_samples_leaf': [1, 2, 4]  # Minimum number of samples required to be at a leaf node\n",
    "# }\n",
    "parameters = {'criterion':['squared_error','absolute_error','poisson'],\n",
    "             'max_depth': [None, 10, 20, 30],\n",
    "             'min_samples_split': [2, 5, 10],\n",
    "             'min_samples_leaf': [1, 2, 4],\n",
    "             'splitter': ['best', 'random'],}\n",
    "\n",
    "# grid_obj = GridSearchCV(estimator = dt, param_grid= parameters, cv=5, scoring='neg_mean_squared_error', n_jobs=-1)\n",
    "grid_obj = GridSearchCV(estimator = dt, param_grid= parameters)\n",
    "\n",
    "grid_fit = grid_obj.fit(x_train, y_train)\n",
    "best_params = grid_fit.best_params_\n",
    "my_model = grid_fit.best_estimator_\n",
    "\n",
    "print(best_params)\n",
    "print(my_model)"
   ]
  },
  {
   "cell_type": "code",
   "execution_count": 40,
   "id": "324ea1d4-40c3-4295-89fe-6182b99fbcbd",
   "metadata": {},
   "outputs": [
    {
     "data": {
      "text/plain": [
       "0.9975319977140725"
      ]
     },
     "execution_count": 40,
     "metadata": {},
     "output_type": "execute_result"
    }
   ],
   "source": [
    "# get accuracy when we train the model by best model\n",
    "my_model.score(x_train, y_train)"
   ]
  },
  {
   "cell_type": "code",
   "execution_count": 41,
   "id": "a010e170-29df-4903-882d-5fdbfcd7e4b1",
   "metadata": {},
   "outputs": [],
   "source": [
    "# save the model using pickle\n",
    "import pickle\n",
    "with open(\"my_predictor.pickle\", 'wb') as file:\n",
    "    pickle.dump(my_model, file)"
   ]
  },
  {
   "cell_type": "code",
   "execution_count": 42,
   "id": "380e8502-57c0-4890-86ff-e516150557ad",
   "metadata": {},
   "outputs": [
    {
     "data": {
      "text/plain": [
       "Index(['RAM', 'ROM', 'Mobile_Size', 'Primary_Cam', 'Selfi_Cam',\n",
       "       'Battery_Power', 'Company_Apple', 'Company_Nokia', 'Company_Oppo',\n",
       "       'Company_Redmi', 'Company_Samsung', 'Company_Vivo'],\n",
       "      dtype='object')"
      ]
     },
     "execution_count": 42,
     "metadata": {},
     "output_type": "execute_result"
    }
   ],
   "source": [
    "x_train.columns"
   ]
  },
  {
   "cell_type": "code",
   "execution_count": 43,
   "id": "0beb5277-6663-404a-8643-e00046cb2a8d",
   "metadata": {},
   "outputs": [
    {
     "name": "stderr",
     "output_type": "stream",
     "text": [
      "C:\\Users\\gshpe\\AppData\\Local\\Programs\\Python\\Python311\\Lib\\site-packages\\sklearn\\base.py:465: UserWarning: X does not have valid feature names, but DecisionTreeRegressor was fitted with feature names\n",
      "  warnings.warn(\n"
     ]
    },
    {
     "data": {
      "text/plain": [
       "array([449.])"
      ]
     },
     "execution_count": 43,
     "metadata": {},
     "output_type": "execute_result"
    }
   ],
   "source": [
    "# get a prediction using my model\n",
    "my_model.predict([[4, 64, 6.1, 64, 48, 4000, 0, 0, 1, 0, 0, 0]])"
   ]
  },
  {
   "cell_type": "code",
   "execution_count": 44,
   "id": "e21c73ca-53af-4525-bfab-fb552604b8ba",
   "metadata": {},
   "outputs": [
    {
     "name": "stderr",
     "output_type": "stream",
     "text": [
      "C:\\Users\\gshpe\\AppData\\Local\\Programs\\Python\\Python311\\Lib\\site-packages\\sklearn\\base.py:465: UserWarning: X does not have valid feature names, but DecisionTreeRegressor was fitted with feature names\n",
      "  warnings.warn(\n"
     ]
    },
    {
     "data": {
      "text/plain": [
       "array([449.])"
      ]
     },
     "execution_count": 44,
     "metadata": {},
     "output_type": "execute_result"
    }
   ],
   "source": [
    "my_model.predict([[4, 64, 6.1, 64, 48, 4000, False, False, False, False, True, False]])"
   ]
  },
  {
   "cell_type": "code",
   "execution_count": 45,
   "id": "0bd0c07c-b206-4807-bfba-fdba08807a6d",
   "metadata": {},
   "outputs": [
    {
     "name": "stderr",
     "output_type": "stream",
     "text": [
      "C:\\Users\\gshpe\\AppData\\Local\\Programs\\Python\\Python311\\Lib\\site-packages\\sklearn\\base.py:465: UserWarning: X does not have valid feature names, but DecisionTreeRegressor was fitted with feature names\n",
      "  warnings.warn(\n"
     ]
    },
    {
     "data": {
      "text/plain": [
       "array([449.])"
      ]
     },
     "execution_count": 45,
     "metadata": {},
     "output_type": "execute_result"
    }
   ],
   "source": [
    "my_model.predict([[4, 64, 6.1, 64, 48, 4000, 0, 0, 0, 1, 0, 0]])"
   ]
  },
  {
   "cell_type": "code",
   "execution_count": null,
   "id": "8ac09f79-0265-413e-a023-8fe0f6f4bb6b",
   "metadata": {},
   "outputs": [],
   "source": []
  }
 ],
 "metadata": {
  "kernelspec": {
   "display_name": "Python 3 (ipykernel)",
   "language": "python",
   "name": "python3"
  },
  "language_info": {
   "codemirror_mode": {
    "name": "ipython",
    "version": 3
   },
   "file_extension": ".py",
   "mimetype": "text/x-python",
   "name": "python",
   "nbconvert_exporter": "python",
   "pygments_lexer": "ipython3",
   "version": "3.11.3"
  }
 },
 "nbformat": 4,
 "nbformat_minor": 5
}
