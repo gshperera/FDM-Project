{
 "cells": [
  {
   "cell_type": "markdown",
   "id": "5e36f604-38d5-4272-b2d8-8df23becb37b",
   "metadata": {},
   "source": [
    "## Data Analysis"
   ]
  },
  {
   "cell_type": "code",
   "execution_count": 1,
   "id": "b026266e-b26d-4317-9896-f99747c4ba2b",
   "metadata": {},
   "outputs": [],
   "source": [
    "import numpy as np\n",
    "import pandas as pd"
   ]
  },
  {
   "cell_type": "code",
   "execution_count": 2,
   "id": "3a035d98-5769-40b9-8fb0-eb762227cafe",
   "metadata": {},
   "outputs": [
    {
     "data": {
      "text/html": [
       "<div>\n",
       "<style scoped>\n",
       "    .dataframe tbody tr th:only-of-type {\n",
       "        vertical-align: middle;\n",
       "    }\n",
       "\n",
       "    .dataframe tbody tr th {\n",
       "        vertical-align: top;\n",
       "    }\n",
       "\n",
       "    .dataframe thead th {\n",
       "        text-align: right;\n",
       "    }\n",
       "</style>\n",
       "<table border=\"1\" class=\"dataframe\">\n",
       "  <thead>\n",
       "    <tr style=\"text-align: right;\">\n",
       "      <th></th>\n",
       "      <th>Phone_ID</th>\n",
       "      <th>Brand</th>\n",
       "      <th>Ratings</th>\n",
       "      <th>RAM</th>\n",
       "      <th>ROM</th>\n",
       "      <th>Mobile_Size</th>\n",
       "      <th>Primary_Cam</th>\n",
       "      <th>Selfi_Cam</th>\n",
       "      <th>Battery_Power</th>\n",
       "      <th>Price($)</th>\n",
       "    </tr>\n",
       "  </thead>\n",
       "  <tbody>\n",
       "    <tr>\n",
       "      <th>0</th>\n",
       "      <td>1</td>\n",
       "      <td>Oppo  A17</td>\n",
       "      <td>4.3</td>\n",
       "      <td>4.0</td>\n",
       "      <td>64.0</td>\n",
       "      <td>6.4</td>\n",
       "      <td>64.0</td>\n",
       "      <td>48.0</td>\n",
       "      <td>6500.0</td>\n",
       "      <td>649</td>\n",
       "    </tr>\n",
       "    <tr>\n",
       "      <th>1</th>\n",
       "      <td>2</td>\n",
       "      <td>Vivo  Y81</td>\n",
       "      <td>3.4</td>\n",
       "      <td>4.0</td>\n",
       "      <td>48.0</td>\n",
       "      <td>5.8</td>\n",
       "      <td>64.0</td>\n",
       "      <td>48.0</td>\n",
       "      <td>5300.0</td>\n",
       "      <td>750</td>\n",
       "    </tr>\n",
       "    <tr>\n",
       "      <th>2</th>\n",
       "      <td>3</td>\n",
       "      <td>Redmi A9</td>\n",
       "      <td>4.3</td>\n",
       "      <td>4.0</td>\n",
       "      <td>64.0</td>\n",
       "      <td>6.1</td>\n",
       "      <td>48.0</td>\n",
       "      <td>32.0</td>\n",
       "      <td>4000.0</td>\n",
       "      <td>449</td>\n",
       "    </tr>\n",
       "    <tr>\n",
       "      <th>3</th>\n",
       "      <td>4</td>\n",
       "      <td>Samsung  Galaxy A50</td>\n",
       "      <td>4.4</td>\n",
       "      <td>4.0</td>\n",
       "      <td>64.0</td>\n",
       "      <td>6.4</td>\n",
       "      <td>48.0</td>\n",
       "      <td>32.0</td>\n",
       "      <td>5500.0</td>\n",
       "      <td>609</td>\n",
       "    </tr>\n",
       "    <tr>\n",
       "      <th>4</th>\n",
       "      <td>5</td>\n",
       "      <td>Nokia  415</td>\n",
       "      <td>4.5</td>\n",
       "      <td>2.0</td>\n",
       "      <td>24.0</td>\n",
       "      <td>3.7</td>\n",
       "      <td>16.0</td>\n",
       "      <td>12.0</td>\n",
       "      <td>3000.0</td>\n",
       "      <td>249</td>\n",
       "    </tr>\n",
       "  </tbody>\n",
       "</table>\n",
       "</div>"
      ],
      "text/plain": [
       "   Phone_ID                  Brand  Ratings  RAM   ROM  Mobile_Size  \\\n",
       "0         1              Oppo  A17      4.3  4.0  64.0          6.4   \n",
       "1         2              Vivo  Y81      3.4  4.0  48.0          5.8   \n",
       "2         3               Redmi A9      4.3  4.0  64.0          6.1   \n",
       "3         4    Samsung  Galaxy A50      4.4  4.0  64.0          6.4   \n",
       "4         5             Nokia  415      4.5  2.0  24.0          3.7   \n",
       "\n",
       "   Primary_Cam  Selfi_Cam  Battery_Power  Price($)  \n",
       "0         64.0       48.0         6500.0       649  \n",
       "1         64.0       48.0         5300.0       750  \n",
       "2         48.0       32.0         4000.0       449  \n",
       "3         48.0       32.0         5500.0       609  \n",
       "4         16.0       12.0         3000.0       249  "
      ]
     },
     "execution_count": 2,
     "metadata": {},
     "output_type": "execute_result"
    }
   ],
   "source": [
    "data = pd.read_csv(\"fdm_dataset.csv\")\n",
    "data.head()"
   ]
  },
  {
   "cell_type": "code",
   "execution_count": 3,
   "id": "31ab6bd0-dc40-4a26-a350-e23592c7c88c",
   "metadata": {},
   "outputs": [
    {
     "data": {
      "text/plain": [
       "(1365, 10)"
      ]
     },
     "execution_count": 3,
     "metadata": {},
     "output_type": "execute_result"
    }
   ],
   "source": [
    "data.shape"
   ]
  },
  {
   "cell_type": "code",
   "execution_count": 4,
   "id": "0ba4db2c-f9ac-4dea-88f2-de546da6486d",
   "metadata": {},
   "outputs": [
    {
     "data": {
      "text/plain": [
       "0"
      ]
     },
     "execution_count": 4,
     "metadata": {},
     "output_type": "execute_result"
    }
   ],
   "source": [
    "# Check for duplicated values\n",
    "data.duplicated().sum()\n",
    "# Remove Duplicate rows\n",
    "# data = data.drop_duplicates()"
   ]
  },
  {
   "cell_type": "code",
   "execution_count": 5,
   "id": "6ec81134-f7ac-4818-a88a-98e1388df2f6",
   "metadata": {},
   "outputs": [
    {
     "data": {
      "text/plain": [
       "Phone_ID           0\n",
       "Brand              0\n",
       "Ratings           45\n",
       "RAM              101\n",
       "ROM               90\n",
       "Mobile_Size       94\n",
       "Primary_Cam      109\n",
       "Selfi_Cam        101\n",
       "Battery_Power    117\n",
       "Price($)           0\n",
       "dtype: int64"
      ]
     },
     "execution_count": 5,
     "metadata": {},
     "output_type": "execute_result"
    }
   ],
   "source": [
    "data.isnull().sum()"
   ]
  },
  {
   "cell_type": "code",
   "execution_count": 6,
   "id": "424512f6-bb8f-4b12-b121-d54d2724f4e5",
   "metadata": {},
   "outputs": [
    {
     "name": "stdout",
     "output_type": "stream",
     "text": [
      "<class 'pandas.core.frame.DataFrame'>\n",
      "RangeIndex: 1365 entries, 0 to 1364\n",
      "Data columns (total 10 columns):\n",
      " #   Column         Non-Null Count  Dtype  \n",
      "---  ------         --------------  -----  \n",
      " 0   Phone_ID       1365 non-null   int64  \n",
      " 1   Brand          1365 non-null   object \n",
      " 2   Ratings        1320 non-null   float64\n",
      " 3   RAM            1264 non-null   float64\n",
      " 4   ROM            1275 non-null   float64\n",
      " 5   Mobile_Size    1271 non-null   float64\n",
      " 6   Primary_Cam    1256 non-null   float64\n",
      " 7   Selfi_Cam      1264 non-null   float64\n",
      " 8   Battery_Power  1248 non-null   float64\n",
      " 9   Price($)       1365 non-null   int64  \n",
      "dtypes: float64(7), int64(2), object(1)\n",
      "memory usage: 106.8+ KB\n"
     ]
    }
   ],
   "source": [
    "# Details about dataset\n",
    "data.info()"
   ]
  },
  {
   "cell_type": "code",
   "execution_count": 7,
   "id": "4fbfd4f3-40db-4df7-b165-53a1f7bc52fe",
   "metadata": {},
   "outputs": [
    {
     "data": {
      "text/plain": [
       "Phone_ID         0.139471\n",
       "Ratings         -0.026222\n",
       "RAM              0.529272\n",
       "ROM              0.613654\n",
       "Mobile_Size      0.822939\n",
       "Primary_Cam      0.814120\n",
       "Selfi_Cam        0.711292\n",
       "Battery_Power    0.872684\n",
       "Price($)         1.000000\n",
       "Name: Price($), dtype: float64"
      ]
     },
     "execution_count": 7,
     "metadata": {},
     "output_type": "execute_result"
    }
   ],
   "source": [
    "# Most related columns to price column\n",
    "data.corr(numeric_only = True)[\"Price($)\"]"
   ]
  },
  {
   "cell_type": "code",
   "execution_count": 8,
   "id": "2dae697a-fa7d-4ff6-97ef-f9f5bbfa4ee7",
   "metadata": {},
   "outputs": [
    {
     "data": {
      "text/plain": [
       "Brand\n",
       "  Nokia  415              129\n",
       "  Oppo  A9                126\n",
       "  Nokia  216              124\n",
       "  Redmi A9                122\n",
       "  Vivo  Y81               119\n",
       "Oppo  A17                 111\n",
       "  Vivo  V21               108\n",
       "Redmi K20                  94\n",
       "  Samsung  Galaxy A50      90\n",
       "  Apple iPhone 11 Pro      75\n",
       "  Samsung  Galaxy A70      75\n",
       "  Apple iPhone 12          72\n",
       "  Samsung  Galaxy S20+     64\n",
       "  Apple iPhone 11          56\n",
       "Name: count, dtype: int64"
      ]
     },
     "execution_count": 8,
     "metadata": {},
     "output_type": "execute_result"
    }
   ],
   "source": [
    "data['Brand'].value_counts()"
   ]
  },
  {
   "cell_type": "code",
   "execution_count": 9,
   "id": "6958db56-6d5e-488a-aa3d-e9ebc290d12b",
   "metadata": {},
   "outputs": [
    {
     "data": {
      "text/plain": [
       "14"
      ]
     },
     "execution_count": 9,
     "metadata": {},
     "output_type": "execute_result"
    }
   ],
   "source": [
    "# Number of columns\n",
    "len(data['Brand'].value_counts())"
   ]
  },
  {
   "cell_type": "code",
   "execution_count": 10,
   "id": "29df8d8a-bf7f-4a87-bbc4-1f51102e4b96",
   "metadata": {},
   "outputs": [
    {
     "data": {
      "text/html": [
       "<div>\n",
       "<style scoped>\n",
       "    .dataframe tbody tr th:only-of-type {\n",
       "        vertical-align: middle;\n",
       "    }\n",
       "\n",
       "    .dataframe tbody tr th {\n",
       "        vertical-align: top;\n",
       "    }\n",
       "\n",
       "    .dataframe thead th {\n",
       "        text-align: right;\n",
       "    }\n",
       "</style>\n",
       "<table border=\"1\" class=\"dataframe\">\n",
       "  <thead>\n",
       "    <tr style=\"text-align: right;\">\n",
       "      <th></th>\n",
       "      <th>Phone_ID</th>\n",
       "      <th>Ratings</th>\n",
       "      <th>RAM</th>\n",
       "      <th>ROM</th>\n",
       "      <th>Mobile_Size</th>\n",
       "      <th>Primary_Cam</th>\n",
       "      <th>Selfi_Cam</th>\n",
       "      <th>Battery_Power</th>\n",
       "      <th>Price($)</th>\n",
       "    </tr>\n",
       "  </thead>\n",
       "  <tbody>\n",
       "    <tr>\n",
       "      <th>count</th>\n",
       "      <td>1365.00000</td>\n",
       "      <td>1320.000000</td>\n",
       "      <td>1264.000000</td>\n",
       "      <td>1275.000000</td>\n",
       "      <td>1271.000000</td>\n",
       "      <td>1256.000000</td>\n",
       "      <td>1264.000000</td>\n",
       "      <td>1248.000000</td>\n",
       "      <td>1365.000000</td>\n",
       "    </tr>\n",
       "    <tr>\n",
       "      <th>mean</th>\n",
       "      <td>683.00000</td>\n",
       "      <td>4.095985</td>\n",
       "      <td>5.085443</td>\n",
       "      <td>85.697255</td>\n",
       "      <td>5.711015</td>\n",
       "      <td>46.535032</td>\n",
       "      <td>32.591772</td>\n",
       "      <td>5119.711538</td>\n",
       "      <td>650.310623</td>\n",
       "    </tr>\n",
       "    <tr>\n",
       "      <th>std</th>\n",
       "      <td>394.18587</td>\n",
       "      <td>0.369362</td>\n",
       "      <td>1.826776</td>\n",
       "      <td>51.193289</td>\n",
       "      <td>1.059151</td>\n",
       "      <td>17.864841</td>\n",
       "      <td>13.909940</td>\n",
       "      <td>1362.969745</td>\n",
       "      <td>235.745020</td>\n",
       "    </tr>\n",
       "    <tr>\n",
       "      <th>min</th>\n",
       "      <td>1.00000</td>\n",
       "      <td>2.800000</td>\n",
       "      <td>2.000000</td>\n",
       "      <td>16.000000</td>\n",
       "      <td>3.400000</td>\n",
       "      <td>12.000000</td>\n",
       "      <td>8.000000</td>\n",
       "      <td>2500.000000</td>\n",
       "      <td>149.000000</td>\n",
       "    </tr>\n",
       "    <tr>\n",
       "      <th>25%</th>\n",
       "      <td>342.00000</td>\n",
       "      <td>3.800000</td>\n",
       "      <td>4.000000</td>\n",
       "      <td>64.000000</td>\n",
       "      <td>5.800000</td>\n",
       "      <td>48.000000</td>\n",
       "      <td>24.000000</td>\n",
       "      <td>4000.000000</td>\n",
       "      <td>499.000000</td>\n",
       "    </tr>\n",
       "    <tr>\n",
       "      <th>50%</th>\n",
       "      <td>683.00000</td>\n",
       "      <td>4.100000</td>\n",
       "      <td>4.000000</td>\n",
       "      <td>64.000000</td>\n",
       "      <td>6.100000</td>\n",
       "      <td>48.000000</td>\n",
       "      <td>32.000000</td>\n",
       "      <td>5500.000000</td>\n",
       "      <td>719.000000</td>\n",
       "    </tr>\n",
       "    <tr>\n",
       "      <th>75%</th>\n",
       "      <td>1024.00000</td>\n",
       "      <td>4.400000</td>\n",
       "      <td>6.000000</td>\n",
       "      <td>128.000000</td>\n",
       "      <td>6.400000</td>\n",
       "      <td>64.000000</td>\n",
       "      <td>48.000000</td>\n",
       "      <td>6500.000000</td>\n",
       "      <td>849.000000</td>\n",
       "    </tr>\n",
       "    <tr>\n",
       "      <th>max</th>\n",
       "      <td>1365.00000</td>\n",
       "      <td>4.800000</td>\n",
       "      <td>8.000000</td>\n",
       "      <td>256.000000</td>\n",
       "      <td>6.500000</td>\n",
       "      <td>64.000000</td>\n",
       "      <td>48.000000</td>\n",
       "      <td>7000.000000</td>\n",
       "      <td>999.000000</td>\n",
       "    </tr>\n",
       "  </tbody>\n",
       "</table>\n",
       "</div>"
      ],
      "text/plain": [
       "         Phone_ID      Ratings          RAM          ROM  Mobile_Size  \\\n",
       "count  1365.00000  1320.000000  1264.000000  1275.000000  1271.000000   \n",
       "mean    683.00000     4.095985     5.085443    85.697255     5.711015   \n",
       "std     394.18587     0.369362     1.826776    51.193289     1.059151   \n",
       "min       1.00000     2.800000     2.000000    16.000000     3.400000   \n",
       "25%     342.00000     3.800000     4.000000    64.000000     5.800000   \n",
       "50%     683.00000     4.100000     4.000000    64.000000     6.100000   \n",
       "75%    1024.00000     4.400000     6.000000   128.000000     6.400000   \n",
       "max    1365.00000     4.800000     8.000000   256.000000     6.500000   \n",
       "\n",
       "       Primary_Cam    Selfi_Cam  Battery_Power     Price($)  \n",
       "count  1256.000000  1264.000000    1248.000000  1365.000000  \n",
       "mean     46.535032    32.591772    5119.711538   650.310623  \n",
       "std      17.864841    13.909940    1362.969745   235.745020  \n",
       "min      12.000000     8.000000    2500.000000   149.000000  \n",
       "25%      48.000000    24.000000    4000.000000   499.000000  \n",
       "50%      48.000000    32.000000    5500.000000   719.000000  \n",
       "75%      64.000000    48.000000    6500.000000   849.000000  \n",
       "max      64.000000    48.000000    7000.000000   999.000000  "
      ]
     },
     "execution_count": 10,
     "metadata": {},
     "output_type": "execute_result"
    }
   ],
   "source": [
    "data.describe()"
   ]
  },
  {
   "cell_type": "code",
   "execution_count": 11,
   "id": "0bf87437-998d-4fc5-a62a-317bf2756ad3",
   "metadata": {},
   "outputs": [
    {
     "data": {
      "text/html": [
       "<div>\n",
       "<style scoped>\n",
       "    .dataframe tbody tr th:only-of-type {\n",
       "        vertical-align: middle;\n",
       "    }\n",
       "\n",
       "    .dataframe tbody tr th {\n",
       "        vertical-align: top;\n",
       "    }\n",
       "\n",
       "    .dataframe thead th {\n",
       "        text-align: right;\n",
       "    }\n",
       "</style>\n",
       "<table border=\"1\" class=\"dataframe\">\n",
       "  <thead>\n",
       "    <tr style=\"text-align: right;\">\n",
       "      <th></th>\n",
       "      <th>count</th>\n",
       "      <th>mean</th>\n",
       "      <th>std</th>\n",
       "      <th>min</th>\n",
       "      <th>25%</th>\n",
       "      <th>50%</th>\n",
       "      <th>75%</th>\n",
       "      <th>max</th>\n",
       "    </tr>\n",
       "    <tr>\n",
       "      <th>Brand</th>\n",
       "      <th></th>\n",
       "      <th></th>\n",
       "      <th></th>\n",
       "      <th></th>\n",
       "      <th></th>\n",
       "      <th></th>\n",
       "      <th></th>\n",
       "      <th></th>\n",
       "    </tr>\n",
       "  </thead>\n",
       "  <tbody>\n",
       "    <tr>\n",
       "      <th>Apple iPhone 11</th>\n",
       "      <td>52.0</td>\n",
       "      <td>4.538462</td>\n",
       "      <td>0.895775</td>\n",
       "      <td>4.0</td>\n",
       "      <td>4.0</td>\n",
       "      <td>4.0</td>\n",
       "      <td>6.0</td>\n",
       "      <td>6.0</td>\n",
       "    </tr>\n",
       "    <tr>\n",
       "      <th>Apple iPhone 11 Pro</th>\n",
       "      <td>64.0</td>\n",
       "      <td>4.531250</td>\n",
       "      <td>0.890314</td>\n",
       "      <td>4.0</td>\n",
       "      <td>4.0</td>\n",
       "      <td>4.0</td>\n",
       "      <td>6.0</td>\n",
       "      <td>6.0</td>\n",
       "    </tr>\n",
       "    <tr>\n",
       "      <th>Apple iPhone 12</th>\n",
       "      <td>64.0</td>\n",
       "      <td>5.125000</td>\n",
       "      <td>1.000000</td>\n",
       "      <td>4.0</td>\n",
       "      <td>4.0</td>\n",
       "      <td>6.0</td>\n",
       "      <td>6.0</td>\n",
       "      <td>6.0</td>\n",
       "    </tr>\n",
       "    <tr>\n",
       "      <th>Nokia  216</th>\n",
       "      <td>118.0</td>\n",
       "      <td>3.355932</td>\n",
       "      <td>0.938497</td>\n",
       "      <td>2.0</td>\n",
       "      <td>2.0</td>\n",
       "      <td>4.0</td>\n",
       "      <td>4.0</td>\n",
       "      <td>4.0</td>\n",
       "    </tr>\n",
       "    <tr>\n",
       "      <th>Nokia  415</th>\n",
       "      <td>122.0</td>\n",
       "      <td>3.229508</td>\n",
       "      <td>1.074012</td>\n",
       "      <td>2.0</td>\n",
       "      <td>2.0</td>\n",
       "      <td>4.0</td>\n",
       "      <td>4.0</td>\n",
       "      <td>8.0</td>\n",
       "    </tr>\n",
       "    <tr>\n",
       "      <th>Oppo  A9</th>\n",
       "      <td>118.0</td>\n",
       "      <td>6.779661</td>\n",
       "      <td>1.849627</td>\n",
       "      <td>4.0</td>\n",
       "      <td>4.0</td>\n",
       "      <td>8.0</td>\n",
       "      <td>8.0</td>\n",
       "      <td>8.0</td>\n",
       "    </tr>\n",
       "    <tr>\n",
       "      <th>Redmi A9</th>\n",
       "      <td>117.0</td>\n",
       "      <td>5.316239</td>\n",
       "      <td>0.952760</td>\n",
       "      <td>4.0</td>\n",
       "      <td>4.0</td>\n",
       "      <td>6.0</td>\n",
       "      <td>6.0</td>\n",
       "      <td>6.0</td>\n",
       "    </tr>\n",
       "    <tr>\n",
       "      <th>Samsung  Galaxy A50</th>\n",
       "      <td>84.0</td>\n",
       "      <td>5.857143</td>\n",
       "      <td>2.006873</td>\n",
       "      <td>4.0</td>\n",
       "      <td>4.0</td>\n",
       "      <td>4.0</td>\n",
       "      <td>8.0</td>\n",
       "      <td>8.0</td>\n",
       "    </tr>\n",
       "    <tr>\n",
       "      <th>Samsung  Galaxy A70</th>\n",
       "      <td>69.0</td>\n",
       "      <td>4.869565</td>\n",
       "      <td>1.661971</td>\n",
       "      <td>4.0</td>\n",
       "      <td>4.0</td>\n",
       "      <td>4.0</td>\n",
       "      <td>4.0</td>\n",
       "      <td>8.0</td>\n",
       "    </tr>\n",
       "    <tr>\n",
       "      <th>Samsung  Galaxy S20+</th>\n",
       "      <td>57.0</td>\n",
       "      <td>6.035088</td>\n",
       "      <td>2.017468</td>\n",
       "      <td>4.0</td>\n",
       "      <td>4.0</td>\n",
       "      <td>8.0</td>\n",
       "      <td>8.0</td>\n",
       "      <td>8.0</td>\n",
       "    </tr>\n",
       "    <tr>\n",
       "      <th>Vivo  V21</th>\n",
       "      <td>102.0</td>\n",
       "      <td>6.509804</td>\n",
       "      <td>1.943484</td>\n",
       "      <td>4.0</td>\n",
       "      <td>4.0</td>\n",
       "      <td>8.0</td>\n",
       "      <td>8.0</td>\n",
       "      <td>8.0</td>\n",
       "    </tr>\n",
       "    <tr>\n",
       "      <th>Vivo  Y81</th>\n",
       "      <td>110.0</td>\n",
       "      <td>5.145455</td>\n",
       "      <td>0.993893</td>\n",
       "      <td>4.0</td>\n",
       "      <td>4.0</td>\n",
       "      <td>6.0</td>\n",
       "      <td>6.0</td>\n",
       "      <td>6.0</td>\n",
       "    </tr>\n",
       "    <tr>\n",
       "      <th>Oppo  A17</th>\n",
       "      <td>99.0</td>\n",
       "      <td>4.929293</td>\n",
       "      <td>1.697853</td>\n",
       "      <td>4.0</td>\n",
       "      <td>4.0</td>\n",
       "      <td>4.0</td>\n",
       "      <td>4.0</td>\n",
       "      <td>8.0</td>\n",
       "    </tr>\n",
       "    <tr>\n",
       "      <th>Redmi K20</th>\n",
       "      <td>88.0</td>\n",
       "      <td>5.363636</td>\n",
       "      <td>1.906925</td>\n",
       "      <td>4.0</td>\n",
       "      <td>4.0</td>\n",
       "      <td>4.0</td>\n",
       "      <td>8.0</td>\n",
       "      <td>8.0</td>\n",
       "    </tr>\n",
       "  </tbody>\n",
       "</table>\n",
       "</div>"
      ],
      "text/plain": [
       "                        count      mean       std  min  25%  50%  75%  max\n",
       "Brand                                                                     \n",
       "  Apple iPhone 11        52.0  4.538462  0.895775  4.0  4.0  4.0  6.0  6.0\n",
       "  Apple iPhone 11 Pro    64.0  4.531250  0.890314  4.0  4.0  4.0  6.0  6.0\n",
       "  Apple iPhone 12        64.0  5.125000  1.000000  4.0  4.0  6.0  6.0  6.0\n",
       "  Nokia  216            118.0  3.355932  0.938497  2.0  2.0  4.0  4.0  4.0\n",
       "  Nokia  415            122.0  3.229508  1.074012  2.0  2.0  4.0  4.0  8.0\n",
       "  Oppo  A9              118.0  6.779661  1.849627  4.0  4.0  8.0  8.0  8.0\n",
       "  Redmi A9              117.0  5.316239  0.952760  4.0  4.0  6.0  6.0  6.0\n",
       "  Samsung  Galaxy A50    84.0  5.857143  2.006873  4.0  4.0  4.0  8.0  8.0\n",
       "  Samsung  Galaxy A70    69.0  4.869565  1.661971  4.0  4.0  4.0  4.0  8.0\n",
       "  Samsung  Galaxy S20+   57.0  6.035088  2.017468  4.0  4.0  8.0  8.0  8.0\n",
       "  Vivo  V21             102.0  6.509804  1.943484  4.0  4.0  8.0  8.0  8.0\n",
       "  Vivo  Y81             110.0  5.145455  0.993893  4.0  4.0  6.0  6.0  6.0\n",
       "Oppo  A17                99.0  4.929293  1.697853  4.0  4.0  4.0  4.0  8.0\n",
       "Redmi K20                88.0  5.363636  1.906925  4.0  4.0  4.0  8.0  8.0"
      ]
     },
     "execution_count": 11,
     "metadata": {},
     "output_type": "execute_result"
    }
   ],
   "source": [
    "data.groupby('Brand')['RAM'].describe()"
   ]
  },
  {
   "cell_type": "code",
   "execution_count": 12,
   "id": "cec38c24-29b9-40df-801e-c38e03c353e0",
   "metadata": {},
   "outputs": [],
   "source": [
    "# Fill null values in the 'RAM' column with the mean 'RAM' value for the corresponding 'Brand' group\n",
    "# data['RAM'] = data['RAM'].fillna(data.groupby('Brand')['RAM'].transform('mean'))\n",
    "data['RAM'] = data['RAM'].fillna(data['RAM'].mean())"
   ]
  },
  {
   "cell_type": "code",
   "execution_count": 13,
   "id": "3e89f87f-1da1-40c9-bc03-dfb3ddbb3436",
   "metadata": {},
   "outputs": [
    {
     "data": {
      "text/html": [
       "<div>\n",
       "<style scoped>\n",
       "    .dataframe tbody tr th:only-of-type {\n",
       "        vertical-align: middle;\n",
       "    }\n",
       "\n",
       "    .dataframe tbody tr th {\n",
       "        vertical-align: top;\n",
       "    }\n",
       "\n",
       "    .dataframe thead th {\n",
       "        text-align: right;\n",
       "    }\n",
       "</style>\n",
       "<table border=\"1\" class=\"dataframe\">\n",
       "  <thead>\n",
       "    <tr style=\"text-align: right;\">\n",
       "      <th></th>\n",
       "      <th>Phone_ID</th>\n",
       "      <th>Brand</th>\n",
       "      <th>Ratings</th>\n",
       "      <th>RAM</th>\n",
       "      <th>ROM</th>\n",
       "      <th>Mobile_Size</th>\n",
       "      <th>Primary_Cam</th>\n",
       "      <th>Selfi_Cam</th>\n",
       "      <th>Battery_Power</th>\n",
       "      <th>Price($)</th>\n",
       "    </tr>\n",
       "  </thead>\n",
       "  <tbody>\n",
       "    <tr>\n",
       "      <th>0</th>\n",
       "      <td>1</td>\n",
       "      <td>Oppo  A17</td>\n",
       "      <td>4.3</td>\n",
       "      <td>4.0</td>\n",
       "      <td>64.0</td>\n",
       "      <td>6.4</td>\n",
       "      <td>64.0</td>\n",
       "      <td>48.0</td>\n",
       "      <td>6500.0</td>\n",
       "      <td>649</td>\n",
       "    </tr>\n",
       "    <tr>\n",
       "      <th>1</th>\n",
       "      <td>2</td>\n",
       "      <td>Vivo  Y81</td>\n",
       "      <td>3.4</td>\n",
       "      <td>4.0</td>\n",
       "      <td>48.0</td>\n",
       "      <td>5.8</td>\n",
       "      <td>64.0</td>\n",
       "      <td>48.0</td>\n",
       "      <td>5300.0</td>\n",
       "      <td>750</td>\n",
       "    </tr>\n",
       "    <tr>\n",
       "      <th>2</th>\n",
       "      <td>3</td>\n",
       "      <td>Redmi A9</td>\n",
       "      <td>4.3</td>\n",
       "      <td>4.0</td>\n",
       "      <td>64.0</td>\n",
       "      <td>6.1</td>\n",
       "      <td>48.0</td>\n",
       "      <td>32.0</td>\n",
       "      <td>4000.0</td>\n",
       "      <td>449</td>\n",
       "    </tr>\n",
       "    <tr>\n",
       "      <th>3</th>\n",
       "      <td>4</td>\n",
       "      <td>Samsung  Galaxy A50</td>\n",
       "      <td>4.4</td>\n",
       "      <td>4.0</td>\n",
       "      <td>64.0</td>\n",
       "      <td>6.4</td>\n",
       "      <td>48.0</td>\n",
       "      <td>32.0</td>\n",
       "      <td>5500.0</td>\n",
       "      <td>609</td>\n",
       "    </tr>\n",
       "    <tr>\n",
       "      <th>4</th>\n",
       "      <td>5</td>\n",
       "      <td>Nokia  415</td>\n",
       "      <td>4.5</td>\n",
       "      <td>2.0</td>\n",
       "      <td>24.0</td>\n",
       "      <td>3.7</td>\n",
       "      <td>16.0</td>\n",
       "      <td>12.0</td>\n",
       "      <td>3000.0</td>\n",
       "      <td>249</td>\n",
       "    </tr>\n",
       "    <tr>\n",
       "      <th>...</th>\n",
       "      <td>...</td>\n",
       "      <td>...</td>\n",
       "      <td>...</td>\n",
       "      <td>...</td>\n",
       "      <td>...</td>\n",
       "      <td>...</td>\n",
       "      <td>...</td>\n",
       "      <td>...</td>\n",
       "      <td>...</td>\n",
       "      <td>...</td>\n",
       "    </tr>\n",
       "    <tr>\n",
       "      <th>1360</th>\n",
       "      <td>1361</td>\n",
       "      <td>Apple iPhone 12</td>\n",
       "      <td>3.5</td>\n",
       "      <td>6.0</td>\n",
       "      <td>NaN</td>\n",
       "      <td>6.2</td>\n",
       "      <td>36.0</td>\n",
       "      <td>NaN</td>\n",
       "      <td>NaN</td>\n",
       "      <td>849</td>\n",
       "    </tr>\n",
       "    <tr>\n",
       "      <th>1361</th>\n",
       "      <td>1362</td>\n",
       "      <td>Apple iPhone 11</td>\n",
       "      <td>4.3</td>\n",
       "      <td>6.0</td>\n",
       "      <td>256.0</td>\n",
       "      <td>NaN</td>\n",
       "      <td>48.0</td>\n",
       "      <td>24.0</td>\n",
       "      <td>5500.0</td>\n",
       "      <td>999</td>\n",
       "    </tr>\n",
       "    <tr>\n",
       "      <th>1362</th>\n",
       "      <td>1363</td>\n",
       "      <td>Nokia  415</td>\n",
       "      <td>4.3</td>\n",
       "      <td>4.0</td>\n",
       "      <td>32.0</td>\n",
       "      <td>3.7</td>\n",
       "      <td>16.0</td>\n",
       "      <td>12.0</td>\n",
       "      <td>3000.0</td>\n",
       "      <td>299</td>\n",
       "    </tr>\n",
       "    <tr>\n",
       "      <th>1363</th>\n",
       "      <td>1364</td>\n",
       "      <td>Nokia  216</td>\n",
       "      <td>3.8</td>\n",
       "      <td>4.0</td>\n",
       "      <td>32.0</td>\n",
       "      <td>3.4</td>\n",
       "      <td>12.0</td>\n",
       "      <td>8.0</td>\n",
       "      <td>2500.0</td>\n",
       "      <td>199</td>\n",
       "    </tr>\n",
       "    <tr>\n",
       "      <th>1364</th>\n",
       "      <td>1365</td>\n",
       "      <td>Oppo  A9</td>\n",
       "      <td>3.7</td>\n",
       "      <td>8.0</td>\n",
       "      <td>128.0</td>\n",
       "      <td>6.4</td>\n",
       "      <td>64.0</td>\n",
       "      <td>48.0</td>\n",
       "      <td>6500.0</td>\n",
       "      <td>799</td>\n",
       "    </tr>\n",
       "  </tbody>\n",
       "</table>\n",
       "<p>1365 rows × 10 columns</p>\n",
       "</div>"
      ],
      "text/plain": [
       "      Phone_ID                  Brand  Ratings  RAM    ROM  Mobile_Size  \\\n",
       "0            1              Oppo  A17      4.3  4.0   64.0          6.4   \n",
       "1            2              Vivo  Y81      3.4  4.0   48.0          5.8   \n",
       "2            3               Redmi A9      4.3  4.0   64.0          6.1   \n",
       "3            4    Samsung  Galaxy A50      4.4  4.0   64.0          6.4   \n",
       "4            5             Nokia  415      4.5  2.0   24.0          3.7   \n",
       "...        ...                    ...      ...  ...    ...          ...   \n",
       "1360      1361        Apple iPhone 12      3.5  6.0    NaN          6.2   \n",
       "1361      1362        Apple iPhone 11      4.3  6.0  256.0          NaN   \n",
       "1362      1363             Nokia  415      4.3  4.0   32.0          3.7   \n",
       "1363      1364             Nokia  216      3.8  4.0   32.0          3.4   \n",
       "1364      1365               Oppo  A9      3.7  8.0  128.0          6.4   \n",
       "\n",
       "      Primary_Cam  Selfi_Cam  Battery_Power  Price($)  \n",
       "0            64.0       48.0         6500.0       649  \n",
       "1            64.0       48.0         5300.0       750  \n",
       "2            48.0       32.0         4000.0       449  \n",
       "3            48.0       32.0         5500.0       609  \n",
       "4            16.0       12.0         3000.0       249  \n",
       "...           ...        ...            ...       ...  \n",
       "1360         36.0        NaN            NaN       849  \n",
       "1361         48.0       24.0         5500.0       999  \n",
       "1362         16.0       12.0         3000.0       299  \n",
       "1363         12.0        8.0         2500.0       199  \n",
       "1364         64.0       48.0         6500.0       799  \n",
       "\n",
       "[1365 rows x 10 columns]"
      ]
     },
     "execution_count": 13,
     "metadata": {},
     "output_type": "execute_result"
    }
   ],
   "source": [
    "data"
   ]
  },
  {
   "cell_type": "code",
   "execution_count": 14,
   "id": "4e6fc86d-f5bb-4233-8b0e-54104b685d35",
   "metadata": {},
   "outputs": [
    {
     "data": {
      "text/plain": [
       "Phone_ID           0\n",
       "Brand              0\n",
       "Ratings           45\n",
       "RAM                0\n",
       "ROM               90\n",
       "Mobile_Size       94\n",
       "Primary_Cam      109\n",
       "Selfi_Cam        101\n",
       "Battery_Power    117\n",
       "Price($)           0\n",
       "dtype: int64"
      ]
     },
     "execution_count": 14,
     "metadata": {},
     "output_type": "execute_result"
    }
   ],
   "source": [
    "data.isnull().sum()"
   ]
  },
  {
   "cell_type": "code",
   "execution_count": 15,
   "id": "a2e66792-ae04-48bd-8ffe-b3ae894de0d5",
   "metadata": {},
   "outputs": [],
   "source": [
    "# Fill null values in the 'Mobile_Size' column with the mean 'Mobile_Size' value for the corresponding 'Brand' group\n",
    "data['Mobile_Size'] = data['Mobile_Size'].fillna(data['Mobile_Size'].mean())"
   ]
  },
  {
   "cell_type": "code",
   "execution_count": 16,
   "id": "139a08b7-312c-41b9-ae28-8406b051d16d",
   "metadata": {},
   "outputs": [],
   "source": [
    "# Fill null values in the 'Battery_Power' column with the mean 'Battery_Power' value for the corresponding 'Brand' group\n",
    "data['Battery_Power'] = data['Battery_Power'].fillna(data['Battery_Power'].mean())"
   ]
  },
  {
   "cell_type": "code",
   "execution_count": 17,
   "id": "a2e0d57e-9c1e-4976-a7d4-86a7031b88c6",
   "metadata": {},
   "outputs": [],
   "source": [
    "# fill null values in the 'ROM' column based on the mean 'ROM' value for each unique combination of 'Brand' and 'ROM'\n",
    "data['ROM'] = data['ROM'].fillna(data['ROM'].mean())"
   ]
  },
  {
   "cell_type": "code",
   "execution_count": 18,
   "id": "4817bb90-2184-433b-abe5-62eb6c531fd6",
   "metadata": {},
   "outputs": [],
   "source": [
    "# Fill null values in the 'Primary_Cam' column with the mean 'Primary_Cam' value for the corresponding 'Brand' group\n",
    "data['Primary_Cam'] = data['Primary_Cam'].fillna(data['Primary_Cam'].mean())"
   ]
  },
  {
   "cell_type": "code",
   "execution_count": 19,
   "id": "8e84d102-c717-4278-bd94-0a4acd7486b8",
   "metadata": {},
   "outputs": [],
   "source": [
    "# Fill null values in the 'Selfi_Cam' column with the mean 'Selfi_Cam' value for the corresponding 'Brand' group\n",
    "data['Selfi_Cam'] = data['Selfi_Cam'].fillna(data['Selfi_Cam'].mean())"
   ]
  },
  {
   "cell_type": "code",
   "execution_count": 20,
   "id": "968e2360-f699-4815-a390-8784d807bbbc",
   "metadata": {},
   "outputs": [
    {
     "data": {
      "text/plain": [
       "Phone_ID          0\n",
       "Brand             0\n",
       "Ratings          45\n",
       "RAM               0\n",
       "ROM               0\n",
       "Mobile_Size       0\n",
       "Primary_Cam       0\n",
       "Selfi_Cam         0\n",
       "Battery_Power     0\n",
       "Price($)          0\n",
       "dtype: int64"
      ]
     },
     "execution_count": 20,
     "metadata": {},
     "output_type": "execute_result"
    }
   ],
   "source": [
    "data.isnull().sum()"
   ]
  },
  {
   "cell_type": "code",
   "execution_count": 21,
   "id": "08de73aa-e95f-4f87-bef9-2b760010e400",
   "metadata": {},
   "outputs": [],
   "source": [
    "# data['Company'] = data['Brand'].apply(lambda x:\" \".join(x.split()[0:1]))\n",
    "data['Company'] = data['Brand'].apply(lambda x:x.split()[0])"
   ]
  },
  {
   "cell_type": "code",
   "execution_count": 22,
   "id": "b829d752-7a68-4b5b-b126-77c1285b55b1",
   "metadata": {},
   "outputs": [
    {
     "data": {
      "text/plain": [
       "Company\n",
       "Nokia      253\n",
       "Oppo       237\n",
       "Samsung    229\n",
       "Vivo       227\n",
       "Redmi      216\n",
       "Apple      203\n",
       "Name: count, dtype: int64"
      ]
     },
     "execution_count": 22,
     "metadata": {},
     "output_type": "execute_result"
    }
   ],
   "source": [
    "data['Company'].value_counts()"
   ]
  },
  {
   "cell_type": "code",
   "execution_count": 23,
   "id": "a9fe921c-e499-48bd-8d2c-425a191056f5",
   "metadata": {},
   "outputs": [
    {
     "data": {
      "text/html": [
       "<div>\n",
       "<style scoped>\n",
       "    .dataframe tbody tr th:only-of-type {\n",
       "        vertical-align: middle;\n",
       "    }\n",
       "\n",
       "    .dataframe tbody tr th {\n",
       "        vertical-align: top;\n",
       "    }\n",
       "\n",
       "    .dataframe thead th {\n",
       "        text-align: right;\n",
       "    }\n",
       "</style>\n",
       "<table border=\"1\" class=\"dataframe\">\n",
       "  <thead>\n",
       "    <tr style=\"text-align: right;\">\n",
       "      <th></th>\n",
       "      <th>Phone_ID</th>\n",
       "      <th>Brand</th>\n",
       "      <th>Ratings</th>\n",
       "      <th>RAM</th>\n",
       "      <th>ROM</th>\n",
       "      <th>Mobile_Size</th>\n",
       "      <th>Primary_Cam</th>\n",
       "      <th>Selfi_Cam</th>\n",
       "      <th>Battery_Power</th>\n",
       "      <th>Price($)</th>\n",
       "      <th>Company</th>\n",
       "    </tr>\n",
       "  </thead>\n",
       "  <tbody>\n",
       "    <tr>\n",
       "      <th>0</th>\n",
       "      <td>1</td>\n",
       "      <td>Oppo  A17</td>\n",
       "      <td>4.3</td>\n",
       "      <td>4.0</td>\n",
       "      <td>64.0</td>\n",
       "      <td>6.4</td>\n",
       "      <td>64.0</td>\n",
       "      <td>48.0</td>\n",
       "      <td>6500.0</td>\n",
       "      <td>649</td>\n",
       "      <td>Oppo</td>\n",
       "    </tr>\n",
       "    <tr>\n",
       "      <th>1</th>\n",
       "      <td>2</td>\n",
       "      <td>Vivo  Y81</td>\n",
       "      <td>3.4</td>\n",
       "      <td>4.0</td>\n",
       "      <td>48.0</td>\n",
       "      <td>5.8</td>\n",
       "      <td>64.0</td>\n",
       "      <td>48.0</td>\n",
       "      <td>5300.0</td>\n",
       "      <td>750</td>\n",
       "      <td>Vivo</td>\n",
       "    </tr>\n",
       "    <tr>\n",
       "      <th>2</th>\n",
       "      <td>3</td>\n",
       "      <td>Redmi A9</td>\n",
       "      <td>4.3</td>\n",
       "      <td>4.0</td>\n",
       "      <td>64.0</td>\n",
       "      <td>6.1</td>\n",
       "      <td>48.0</td>\n",
       "      <td>32.0</td>\n",
       "      <td>4000.0</td>\n",
       "      <td>449</td>\n",
       "      <td>Redmi</td>\n",
       "    </tr>\n",
       "    <tr>\n",
       "      <th>3</th>\n",
       "      <td>4</td>\n",
       "      <td>Samsung  Galaxy A50</td>\n",
       "      <td>4.4</td>\n",
       "      <td>4.0</td>\n",
       "      <td>64.0</td>\n",
       "      <td>6.4</td>\n",
       "      <td>48.0</td>\n",
       "      <td>32.0</td>\n",
       "      <td>5500.0</td>\n",
       "      <td>609</td>\n",
       "      <td>Samsung</td>\n",
       "    </tr>\n",
       "    <tr>\n",
       "      <th>4</th>\n",
       "      <td>5</td>\n",
       "      <td>Nokia  415</td>\n",
       "      <td>4.5</td>\n",
       "      <td>2.0</td>\n",
       "      <td>24.0</td>\n",
       "      <td>3.7</td>\n",
       "      <td>16.0</td>\n",
       "      <td>12.0</td>\n",
       "      <td>3000.0</td>\n",
       "      <td>249</td>\n",
       "      <td>Nokia</td>\n",
       "    </tr>\n",
       "  </tbody>\n",
       "</table>\n",
       "</div>"
      ],
      "text/plain": [
       "   Phone_ID                  Brand  Ratings  RAM   ROM  Mobile_Size  \\\n",
       "0         1              Oppo  A17      4.3  4.0  64.0          6.4   \n",
       "1         2              Vivo  Y81      3.4  4.0  48.0          5.8   \n",
       "2         3               Redmi A9      4.3  4.0  64.0          6.1   \n",
       "3         4    Samsung  Galaxy A50      4.4  4.0  64.0          6.4   \n",
       "4         5             Nokia  415      4.5  2.0  24.0          3.7   \n",
       "\n",
       "   Primary_Cam  Selfi_Cam  Battery_Power  Price($)  Company  \n",
       "0         64.0       48.0         6500.0       649     Oppo  \n",
       "1         64.0       48.0         5300.0       750     Vivo  \n",
       "2         48.0       32.0         4000.0       449    Redmi  \n",
       "3         48.0       32.0         5500.0       609  Samsung  \n",
       "4         16.0       12.0         3000.0       249    Nokia  "
      ]
     },
     "execution_count": 23,
     "metadata": {},
     "output_type": "execute_result"
    }
   ],
   "source": [
    "data.head()"
   ]
  },
  {
   "cell_type": "code",
   "execution_count": 24,
   "id": "b05faf80-d52b-47a1-b794-88ce5f7cfcfa",
   "metadata": {},
   "outputs": [],
   "source": [
    "data = data.drop(columns=['Ratings'])"
   ]
  },
  {
   "cell_type": "code",
   "execution_count": 25,
   "id": "233594ec-a41c-4fe8-aa60-762abc52b884",
   "metadata": {},
   "outputs": [],
   "source": [
    "data = data.drop(columns=['Phone_ID'])"
   ]
  },
  {
   "cell_type": "code",
   "execution_count": 26,
   "id": "d23120e4-bf95-4604-96c6-68602af3d645",
   "metadata": {},
   "outputs": [
    {
     "data": {
      "text/html": [
       "<div>\n",
       "<style scoped>\n",
       "    .dataframe tbody tr th:only-of-type {\n",
       "        vertical-align: middle;\n",
       "    }\n",
       "\n",
       "    .dataframe tbody tr th {\n",
       "        vertical-align: top;\n",
       "    }\n",
       "\n",
       "    .dataframe thead th {\n",
       "        text-align: right;\n",
       "    }\n",
       "</style>\n",
       "<table border=\"1\" class=\"dataframe\">\n",
       "  <thead>\n",
       "    <tr style=\"text-align: right;\">\n",
       "      <th></th>\n",
       "      <th>Brand</th>\n",
       "      <th>RAM</th>\n",
       "      <th>ROM</th>\n",
       "      <th>Mobile_Size</th>\n",
       "      <th>Primary_Cam</th>\n",
       "      <th>Selfi_Cam</th>\n",
       "      <th>Battery_Power</th>\n",
       "      <th>Price($)</th>\n",
       "      <th>Company</th>\n",
       "    </tr>\n",
       "  </thead>\n",
       "  <tbody>\n",
       "    <tr>\n",
       "      <th>0</th>\n",
       "      <td>Oppo  A17</td>\n",
       "      <td>4.0</td>\n",
       "      <td>64.0</td>\n",
       "      <td>6.4</td>\n",
       "      <td>64.0</td>\n",
       "      <td>48.0</td>\n",
       "      <td>6500.0</td>\n",
       "      <td>649</td>\n",
       "      <td>Oppo</td>\n",
       "    </tr>\n",
       "    <tr>\n",
       "      <th>1</th>\n",
       "      <td>Vivo  Y81</td>\n",
       "      <td>4.0</td>\n",
       "      <td>48.0</td>\n",
       "      <td>5.8</td>\n",
       "      <td>64.0</td>\n",
       "      <td>48.0</td>\n",
       "      <td>5300.0</td>\n",
       "      <td>750</td>\n",
       "      <td>Vivo</td>\n",
       "    </tr>\n",
       "    <tr>\n",
       "      <th>2</th>\n",
       "      <td>Redmi A9</td>\n",
       "      <td>4.0</td>\n",
       "      <td>64.0</td>\n",
       "      <td>6.1</td>\n",
       "      <td>48.0</td>\n",
       "      <td>32.0</td>\n",
       "      <td>4000.0</td>\n",
       "      <td>449</td>\n",
       "      <td>Redmi</td>\n",
       "    </tr>\n",
       "    <tr>\n",
       "      <th>3</th>\n",
       "      <td>Samsung  Galaxy A50</td>\n",
       "      <td>4.0</td>\n",
       "      <td>64.0</td>\n",
       "      <td>6.4</td>\n",
       "      <td>48.0</td>\n",
       "      <td>32.0</td>\n",
       "      <td>5500.0</td>\n",
       "      <td>609</td>\n",
       "      <td>Samsung</td>\n",
       "    </tr>\n",
       "    <tr>\n",
       "      <th>4</th>\n",
       "      <td>Nokia  415</td>\n",
       "      <td>2.0</td>\n",
       "      <td>24.0</td>\n",
       "      <td>3.7</td>\n",
       "      <td>16.0</td>\n",
       "      <td>12.0</td>\n",
       "      <td>3000.0</td>\n",
       "      <td>249</td>\n",
       "      <td>Nokia</td>\n",
       "    </tr>\n",
       "  </tbody>\n",
       "</table>\n",
       "</div>"
      ],
      "text/plain": [
       "                   Brand  RAM   ROM  Mobile_Size  Primary_Cam  Selfi_Cam  \\\n",
       "0              Oppo  A17  4.0  64.0          6.4         64.0       48.0   \n",
       "1              Vivo  Y81  4.0  48.0          5.8         64.0       48.0   \n",
       "2               Redmi A9  4.0  64.0          6.1         48.0       32.0   \n",
       "3    Samsung  Galaxy A50  4.0  64.0          6.4         48.0       32.0   \n",
       "4             Nokia  415  2.0  24.0          3.7         16.0       12.0   \n",
       "\n",
       "   Battery_Power  Price($)  Company  \n",
       "0         6500.0       649     Oppo  \n",
       "1         5300.0       750     Vivo  \n",
       "2         4000.0       449    Redmi  \n",
       "3         5500.0       609  Samsung  \n",
       "4         3000.0       249    Nokia  "
      ]
     },
     "execution_count": 26,
     "metadata": {},
     "output_type": "execute_result"
    }
   ],
   "source": [
    "data.head()"
   ]
  },
  {
   "cell_type": "code",
   "execution_count": 27,
   "id": "7eacf767-042a-4d67-9b73-1a31fda0b73c",
   "metadata": {},
   "outputs": [],
   "source": [
    "my_data = data.drop(columns=['Brand'])"
   ]
  },
  {
   "cell_type": "code",
   "execution_count": 28,
   "id": "8d8af0f8-4503-4007-a005-b55374ae5130",
   "metadata": {},
   "outputs": [
    {
     "data": {
      "text/html": [
       "<div>\n",
       "<style scoped>\n",
       "    .dataframe tbody tr th:only-of-type {\n",
       "        vertical-align: middle;\n",
       "    }\n",
       "\n",
       "    .dataframe tbody tr th {\n",
       "        vertical-align: top;\n",
       "    }\n",
       "\n",
       "    .dataframe thead th {\n",
       "        text-align: right;\n",
       "    }\n",
       "</style>\n",
       "<table border=\"1\" class=\"dataframe\">\n",
       "  <thead>\n",
       "    <tr style=\"text-align: right;\">\n",
       "      <th></th>\n",
       "      <th>Brand</th>\n",
       "      <th>RAM</th>\n",
       "      <th>ROM</th>\n",
       "      <th>Mobile_Size</th>\n",
       "      <th>Primary_Cam</th>\n",
       "      <th>Selfi_Cam</th>\n",
       "      <th>Battery_Power</th>\n",
       "      <th>Price($)</th>\n",
       "      <th>Company</th>\n",
       "    </tr>\n",
       "  </thead>\n",
       "  <tbody>\n",
       "    <tr>\n",
       "      <th>0</th>\n",
       "      <td>Oppo  A17</td>\n",
       "      <td>4.0</td>\n",
       "      <td>64.0</td>\n",
       "      <td>6.4</td>\n",
       "      <td>64.0</td>\n",
       "      <td>48.0</td>\n",
       "      <td>6500.0</td>\n",
       "      <td>649</td>\n",
       "      <td>Oppo</td>\n",
       "    </tr>\n",
       "    <tr>\n",
       "      <th>1</th>\n",
       "      <td>Vivo  Y81</td>\n",
       "      <td>4.0</td>\n",
       "      <td>48.0</td>\n",
       "      <td>5.8</td>\n",
       "      <td>64.0</td>\n",
       "      <td>48.0</td>\n",
       "      <td>5300.0</td>\n",
       "      <td>750</td>\n",
       "      <td>Vivo</td>\n",
       "    </tr>\n",
       "    <tr>\n",
       "      <th>2</th>\n",
       "      <td>Redmi A9</td>\n",
       "      <td>4.0</td>\n",
       "      <td>64.0</td>\n",
       "      <td>6.1</td>\n",
       "      <td>48.0</td>\n",
       "      <td>32.0</td>\n",
       "      <td>4000.0</td>\n",
       "      <td>449</td>\n",
       "      <td>Redmi</td>\n",
       "    </tr>\n",
       "    <tr>\n",
       "      <th>3</th>\n",
       "      <td>Samsung  Galaxy A50</td>\n",
       "      <td>4.0</td>\n",
       "      <td>64.0</td>\n",
       "      <td>6.4</td>\n",
       "      <td>48.0</td>\n",
       "      <td>32.0</td>\n",
       "      <td>5500.0</td>\n",
       "      <td>609</td>\n",
       "      <td>Samsung</td>\n",
       "    </tr>\n",
       "    <tr>\n",
       "      <th>4</th>\n",
       "      <td>Nokia  415</td>\n",
       "      <td>2.0</td>\n",
       "      <td>24.0</td>\n",
       "      <td>3.7</td>\n",
       "      <td>16.0</td>\n",
       "      <td>12.0</td>\n",
       "      <td>3000.0</td>\n",
       "      <td>249</td>\n",
       "      <td>Nokia</td>\n",
       "    </tr>\n",
       "  </tbody>\n",
       "</table>\n",
       "</div>"
      ],
      "text/plain": [
       "                   Brand  RAM   ROM  Mobile_Size  Primary_Cam  Selfi_Cam  \\\n",
       "0              Oppo  A17  4.0  64.0          6.4         64.0       48.0   \n",
       "1              Vivo  Y81  4.0  48.0          5.8         64.0       48.0   \n",
       "2               Redmi A9  4.0  64.0          6.1         48.0       32.0   \n",
       "3    Samsung  Galaxy A50  4.0  64.0          6.4         48.0       32.0   \n",
       "4             Nokia  415  2.0  24.0          3.7         16.0       12.0   \n",
       "\n",
       "   Battery_Power  Price($)  Company  \n",
       "0         6500.0       649     Oppo  \n",
       "1         5300.0       750     Vivo  \n",
       "2         4000.0       449    Redmi  \n",
       "3         5500.0       609  Samsung  \n",
       "4         3000.0       249    Nokia  "
      ]
     },
     "execution_count": 28,
     "metadata": {},
     "output_type": "execute_result"
    }
   ],
   "source": [
    "data.head()"
   ]
  },
  {
   "cell_type": "code",
   "execution_count": 29,
   "id": "4d2ee663-0c96-4eee-8a60-b2980f78fe38",
   "metadata": {},
   "outputs": [
    {
     "data": {
      "text/html": [
       "<div>\n",
       "<style scoped>\n",
       "    .dataframe tbody tr th:only-of-type {\n",
       "        vertical-align: middle;\n",
       "    }\n",
       "\n",
       "    .dataframe tbody tr th {\n",
       "        vertical-align: top;\n",
       "    }\n",
       "\n",
       "    .dataframe thead th {\n",
       "        text-align: right;\n",
       "    }\n",
       "</style>\n",
       "<table border=\"1\" class=\"dataframe\">\n",
       "  <thead>\n",
       "    <tr style=\"text-align: right;\">\n",
       "      <th></th>\n",
       "      <th>RAM</th>\n",
       "      <th>ROM</th>\n",
       "      <th>Mobile_Size</th>\n",
       "      <th>Primary_Cam</th>\n",
       "      <th>Selfi_Cam</th>\n",
       "      <th>Battery_Power</th>\n",
       "      <th>Price($)</th>\n",
       "      <th>Company</th>\n",
       "    </tr>\n",
       "  </thead>\n",
       "  <tbody>\n",
       "    <tr>\n",
       "      <th>0</th>\n",
       "      <td>4.0</td>\n",
       "      <td>64.0</td>\n",
       "      <td>6.4</td>\n",
       "      <td>64.0</td>\n",
       "      <td>48.0</td>\n",
       "      <td>6500.0</td>\n",
       "      <td>649</td>\n",
       "      <td>Oppo</td>\n",
       "    </tr>\n",
       "    <tr>\n",
       "      <th>1</th>\n",
       "      <td>4.0</td>\n",
       "      <td>48.0</td>\n",
       "      <td>5.8</td>\n",
       "      <td>64.0</td>\n",
       "      <td>48.0</td>\n",
       "      <td>5300.0</td>\n",
       "      <td>750</td>\n",
       "      <td>Vivo</td>\n",
       "    </tr>\n",
       "    <tr>\n",
       "      <th>2</th>\n",
       "      <td>4.0</td>\n",
       "      <td>64.0</td>\n",
       "      <td>6.1</td>\n",
       "      <td>48.0</td>\n",
       "      <td>32.0</td>\n",
       "      <td>4000.0</td>\n",
       "      <td>449</td>\n",
       "      <td>Redmi</td>\n",
       "    </tr>\n",
       "    <tr>\n",
       "      <th>3</th>\n",
       "      <td>4.0</td>\n",
       "      <td>64.0</td>\n",
       "      <td>6.4</td>\n",
       "      <td>48.0</td>\n",
       "      <td>32.0</td>\n",
       "      <td>5500.0</td>\n",
       "      <td>609</td>\n",
       "      <td>Samsung</td>\n",
       "    </tr>\n",
       "    <tr>\n",
       "      <th>4</th>\n",
       "      <td>2.0</td>\n",
       "      <td>24.0</td>\n",
       "      <td>3.7</td>\n",
       "      <td>16.0</td>\n",
       "      <td>12.0</td>\n",
       "      <td>3000.0</td>\n",
       "      <td>249</td>\n",
       "      <td>Nokia</td>\n",
       "    </tr>\n",
       "  </tbody>\n",
       "</table>\n",
       "</div>"
      ],
      "text/plain": [
       "   RAM   ROM  Mobile_Size  Primary_Cam  Selfi_Cam  Battery_Power  Price($)  \\\n",
       "0  4.0  64.0          6.4         64.0       48.0         6500.0       649   \n",
       "1  4.0  48.0          5.8         64.0       48.0         5300.0       750   \n",
       "2  4.0  64.0          6.1         48.0       32.0         4000.0       449   \n",
       "3  4.0  64.0          6.4         48.0       32.0         5500.0       609   \n",
       "4  2.0  24.0          3.7         16.0       12.0         3000.0       249   \n",
       "\n",
       "   Company  \n",
       "0     Oppo  \n",
       "1     Vivo  \n",
       "2    Redmi  \n",
       "3  Samsung  \n",
       "4    Nokia  "
      ]
     },
     "execution_count": 29,
     "metadata": {},
     "output_type": "execute_result"
    }
   ],
   "source": [
    "my_data.head()"
   ]
  },
  {
   "cell_type": "code",
   "execution_count": 30,
   "id": "d4ea8f7d-fad2-4a23-b68b-c784f4b9b22c",
   "metadata": {},
   "outputs": [],
   "source": [
    "# one hot encoding\n",
    "my_data = pd.get_dummies(my_data)"
   ]
  },
  {
   "cell_type": "code",
   "execution_count": 31,
   "id": "119be499-3466-45f3-9492-3287d89ead7a",
   "metadata": {},
   "outputs": [
    {
     "data": {
      "text/html": [
       "<div>\n",
       "<style scoped>\n",
       "    .dataframe tbody tr th:only-of-type {\n",
       "        vertical-align: middle;\n",
       "    }\n",
       "\n",
       "    .dataframe tbody tr th {\n",
       "        vertical-align: top;\n",
       "    }\n",
       "\n",
       "    .dataframe thead th {\n",
       "        text-align: right;\n",
       "    }\n",
       "</style>\n",
       "<table border=\"1\" class=\"dataframe\">\n",
       "  <thead>\n",
       "    <tr style=\"text-align: right;\">\n",
       "      <th></th>\n",
       "      <th>RAM</th>\n",
       "      <th>ROM</th>\n",
       "      <th>Mobile_Size</th>\n",
       "      <th>Primary_Cam</th>\n",
       "      <th>Selfi_Cam</th>\n",
       "      <th>Battery_Power</th>\n",
       "      <th>Price($)</th>\n",
       "      <th>Company_Apple</th>\n",
       "      <th>Company_Nokia</th>\n",
       "      <th>Company_Oppo</th>\n",
       "      <th>Company_Redmi</th>\n",
       "      <th>Company_Samsung</th>\n",
       "      <th>Company_Vivo</th>\n",
       "    </tr>\n",
       "  </thead>\n",
       "  <tbody>\n",
       "    <tr>\n",
       "      <th>0</th>\n",
       "      <td>4.0</td>\n",
       "      <td>64.0</td>\n",
       "      <td>6.4</td>\n",
       "      <td>64.0</td>\n",
       "      <td>48.0</td>\n",
       "      <td>6500.0</td>\n",
       "      <td>649</td>\n",
       "      <td>False</td>\n",
       "      <td>False</td>\n",
       "      <td>True</td>\n",
       "      <td>False</td>\n",
       "      <td>False</td>\n",
       "      <td>False</td>\n",
       "    </tr>\n",
       "    <tr>\n",
       "      <th>1</th>\n",
       "      <td>4.0</td>\n",
       "      <td>48.0</td>\n",
       "      <td>5.8</td>\n",
       "      <td>64.0</td>\n",
       "      <td>48.0</td>\n",
       "      <td>5300.0</td>\n",
       "      <td>750</td>\n",
       "      <td>False</td>\n",
       "      <td>False</td>\n",
       "      <td>False</td>\n",
       "      <td>False</td>\n",
       "      <td>False</td>\n",
       "      <td>True</td>\n",
       "    </tr>\n",
       "    <tr>\n",
       "      <th>2</th>\n",
       "      <td>4.0</td>\n",
       "      <td>64.0</td>\n",
       "      <td>6.1</td>\n",
       "      <td>48.0</td>\n",
       "      <td>32.0</td>\n",
       "      <td>4000.0</td>\n",
       "      <td>449</td>\n",
       "      <td>False</td>\n",
       "      <td>False</td>\n",
       "      <td>False</td>\n",
       "      <td>True</td>\n",
       "      <td>False</td>\n",
       "      <td>False</td>\n",
       "    </tr>\n",
       "    <tr>\n",
       "      <th>3</th>\n",
       "      <td>4.0</td>\n",
       "      <td>64.0</td>\n",
       "      <td>6.4</td>\n",
       "      <td>48.0</td>\n",
       "      <td>32.0</td>\n",
       "      <td>5500.0</td>\n",
       "      <td>609</td>\n",
       "      <td>False</td>\n",
       "      <td>False</td>\n",
       "      <td>False</td>\n",
       "      <td>False</td>\n",
       "      <td>True</td>\n",
       "      <td>False</td>\n",
       "    </tr>\n",
       "    <tr>\n",
       "      <th>4</th>\n",
       "      <td>2.0</td>\n",
       "      <td>24.0</td>\n",
       "      <td>3.7</td>\n",
       "      <td>16.0</td>\n",
       "      <td>12.0</td>\n",
       "      <td>3000.0</td>\n",
       "      <td>249</td>\n",
       "      <td>False</td>\n",
       "      <td>True</td>\n",
       "      <td>False</td>\n",
       "      <td>False</td>\n",
       "      <td>False</td>\n",
       "      <td>False</td>\n",
       "    </tr>\n",
       "  </tbody>\n",
       "</table>\n",
       "</div>"
      ],
      "text/plain": [
       "   RAM   ROM  Mobile_Size  Primary_Cam  Selfi_Cam  Battery_Power  Price($)  \\\n",
       "0  4.0  64.0          6.4         64.0       48.0         6500.0       649   \n",
       "1  4.0  48.0          5.8         64.0       48.0         5300.0       750   \n",
       "2  4.0  64.0          6.1         48.0       32.0         4000.0       449   \n",
       "3  4.0  64.0          6.4         48.0       32.0         5500.0       609   \n",
       "4  2.0  24.0          3.7         16.0       12.0         3000.0       249   \n",
       "\n",
       "   Company_Apple  Company_Nokia  Company_Oppo  Company_Redmi  Company_Samsung  \\\n",
       "0          False          False          True          False            False   \n",
       "1          False          False         False          False            False   \n",
       "2          False          False         False           True            False   \n",
       "3          False          False         False          False             True   \n",
       "4          False           True         False          False            False   \n",
       "\n",
       "   Company_Vivo  \n",
       "0         False  \n",
       "1          True  \n",
       "2         False  \n",
       "3         False  \n",
       "4         False  "
      ]
     },
     "execution_count": 31,
     "metadata": {},
     "output_type": "execute_result"
    }
   ],
   "source": [
    "my_data.head()"
   ]
  },
  {
   "cell_type": "code",
   "execution_count": 32,
   "id": "57836a6b-b8ff-4f0c-9a94-23cbde709a2e",
   "metadata": {},
   "outputs": [
    {
     "data": {
      "text/plain": [
       "(1365, 13)"
      ]
     },
     "execution_count": 32,
     "metadata": {},
     "output_type": "execute_result"
    }
   ],
   "source": [
    "my_data.shape"
   ]
  },
  {
   "cell_type": "code",
   "execution_count": null,
   "id": "05d41b82-a3b0-4855-ad6d-afa64bea5f57",
   "metadata": {},
   "outputs": [],
   "source": []
  },
  {
   "cell_type": "markdown",
   "id": "5cd2f81d-2b3d-4baf-b26a-c1cdeebfc64e",
   "metadata": {},
   "source": [
    "## Model Building"
   ]
  },
  {
   "cell_type": "code",
   "execution_count": 33,
   "id": "5ead49a0-edc3-47d7-bcfd-d7d4afa295a0",
   "metadata": {},
   "outputs": [],
   "source": [
    "# split data set into x and y\n",
    "X = my_data.drop('Price($)', axis=1)\n",
    "y = my_data['Price($)']"
   ]
  },
  {
   "cell_type": "code",
   "execution_count": 34,
   "id": "4e107a97-f3ad-4cb3-8213-8a727fab888e",
   "metadata": {},
   "outputs": [
    {
     "name": "stdout",
     "output_type": "stream",
     "text": [
      "Requirement already satisfied: sklearn in c:\\users\\gshpe\\appdata\\local\\programs\\python\\python311\\lib\\site-packages (0.0.post9)\n"
     ]
    },
    {
     "name": "stderr",
     "output_type": "stream",
     "text": [
      "\n",
      "[notice] A new release of pip is available: 23.2.1 -> 23.3.1\n",
      "[notice] To update, run: python.exe -m pip install --upgrade pip\n"
     ]
    }
   ],
   "source": [
    "!pip install sklearn"
   ]
  },
  {
   "cell_type": "code",
   "execution_count": 35,
   "id": "bd1e8168-802e-4e17-8fcb-ea36bbd4876d",
   "metadata": {},
   "outputs": [],
   "source": [
    "# split data sets into train and test\n",
    "from sklearn.model_selection import train_test_split\n",
    "x_train, x_test, y_train, y_test = train_test_split(X, y, test_size=0.25)"
   ]
  },
  {
   "cell_type": "code",
   "execution_count": 36,
   "id": "0251e838-1e1d-4522-86b6-772348515fdf",
   "metadata": {},
   "outputs": [
    {
     "data": {
      "text/plain": [
       "((1023, 12), (342, 12))"
      ]
     },
     "execution_count": 36,
     "metadata": {},
     "output_type": "execute_result"
    }
   ],
   "source": [
    "x_train.shape, x_test.shape"
   ]
  },
  {
   "cell_type": "code",
   "execution_count": 37,
   "id": "0311fa9a-35cc-4f0b-be89-32d442c521be",
   "metadata": {},
   "outputs": [],
   "source": [
    "# Create a function to find accuray of a given model (with default hyper parameters)\n",
    "def model_acc(model):\n",
    "    model.fit(x_train, y_train)\n",
    "    acc = model.score(x_test, y_test)\n",
    "    print(str(model) + '-->' + str(acc))"
   ]
  },
  {
   "cell_type": "code",
   "execution_count": 38,
   "id": "2f342234-a0b8-445e-a4c1-e9e6f61885b1",
   "metadata": {},
   "outputs": [
    {
     "name": "stdout",
     "output_type": "stream",
     "text": [
      "LinearRegression()-->0.926711674247532\n",
      "Lasso()-->0.9255865544132236\n",
      "DecisionTreeRegressor()-->0.9889885786420793\n",
      "RandomForestRegressor()-->0.9925556495242878\n"
     ]
    }
   ],
   "source": [
    "from sklearn.linear_model import LinearRegression\n",
    "lr = LinearRegression()\n",
    "model_acc(lr)\n",
    "\n",
    "from sklearn.linear_model import Lasso\n",
    "lasso = Lasso()\n",
    "model_acc(lasso)\n",
    "\n",
    "from sklearn.tree import DecisionTreeRegressor\n",
    "dt = DecisionTreeRegressor()\n",
    "model_acc(dt)\n",
    "\n",
    "from sklearn.ensemble import RandomForestRegressor\n",
    "rf = RandomForestRegressor()\n",
    "model_acc(rf)"
   ]
  },
  {
   "cell_type": "code",
   "execution_count": 39,
   "id": "cb36a36c-e811-4990-ad80-47dab4ceb3d5",
   "metadata": {},
   "outputs": [
    {
     "name": "stdout",
     "output_type": "stream",
     "text": [
      "{'criterion': 'squared_error', 'max_depth': 20, 'min_samples_leaf': 1, 'min_samples_split': 2, 'splitter': 'random'}\n",
      "DecisionTreeRegressor(max_depth=20, splitter='random')\n"
     ]
    }
   ],
   "source": [
    "# Hyper parameter tunning\n",
    "from sklearn.model_selection import GridSearchCV\n",
    "# parameters = {\n",
    "#     'criterion': ['mse', 'friedman_mse', 'mae'],  # You can adjust these criteria\n",
    "#     'splitter': ['best', 'random'],  # Splitting strategy\n",
    "#     'max_depth': [None, 10, 20, 30],  # Maximum depth of the tree\n",
    "#     'min_samples_split': [2, 5, 10],  # Minimum number of samples required to split an internal node\n",
    "#     'min_samples_leaf': [1, 2, 4]  # Minimum number of samples required to be at a leaf node\n",
    "# }\n",
    "parameters = {\n",
    "        'criterion':['squared_error','absolute_error','poisson'],\n",
    "        'max_depth': [None, 10, 20, 30],\n",
    "        'min_samples_split': [2, 5, 10],\n",
    "        'min_samples_leaf': [1, 2, 4],\n",
    "        'splitter': ['best', 'random'],\n",
    "}\n",
    "\n",
    "# grid_obj = GridSearchCV(estimator = dt, param_grid= parameters, cv=5, scoring='neg_mean_squared_error', n_jobs=-1)\n",
    "grid_obj = GridSearchCV(estimator = dt, param_grid= parameters)\n",
    "\n",
    "grid_fit = grid_obj.fit(x_train, y_train)\n",
    "best_params = grid_fit.best_params_\n",
    "my_model = grid_fit.best_estimator_\n",
    "\n",
    "print(best_params)\n",
    "print(my_model)"
   ]
  },
  {
   "cell_type": "code",
   "execution_count": 40,
   "id": "324ea1d4-40c3-4295-89fe-6182b99fbcbd",
   "metadata": {},
   "outputs": [
    {
     "data": {
      "text/plain": [
       "0.9986292430355115"
      ]
     },
     "execution_count": 40,
     "metadata": {},
     "output_type": "execute_result"
    }
   ],
   "source": [
    "# get accuracy when we train the model by best model\n",
    "my_model.score(x_train, y_train)"
   ]
  },
  {
   "cell_type": "code",
   "execution_count": 41,
   "id": "a010e170-29df-4903-882d-5fdbfcd7e4b1",
   "metadata": {},
   "outputs": [],
   "source": [
    "# save the model using pickle\n",
    "import pickle\n",
    "with open(\"my_predictor.pickle\", 'wb') as file:\n",
    "    pickle.dump(my_model, file)"
   ]
  },
  {
   "cell_type": "code",
   "execution_count": 42,
   "id": "380e8502-57c0-4890-86ff-e516150557ad",
   "metadata": {},
   "outputs": [
    {
     "data": {
      "text/plain": [
       "Index(['RAM', 'ROM', 'Mobile_Size', 'Primary_Cam', 'Selfi_Cam',\n",
       "       'Battery_Power', 'Company_Apple', 'Company_Nokia', 'Company_Oppo',\n",
       "       'Company_Redmi', 'Company_Samsung', 'Company_Vivo'],\n",
       "      dtype='object')"
      ]
     },
     "execution_count": 42,
     "metadata": {},
     "output_type": "execute_result"
    }
   ],
   "source": [
    "x_train.columns"
   ]
  },
  {
   "cell_type": "code",
   "execution_count": 43,
   "id": "0beb5277-6663-404a-8643-e00046cb2a8d",
   "metadata": {},
   "outputs": [
    {
     "name": "stderr",
     "output_type": "stream",
     "text": [
      "C:\\Users\\gshpe\\AppData\\Local\\Programs\\Python\\Python311\\Lib\\site-packages\\sklearn\\base.py:465: UserWarning: X does not have valid feature names, but DecisionTreeRegressor was fitted with feature names\n",
      "  warnings.warn(\n"
     ]
    },
    {
     "data": {
      "text/plain": [
       "array([649.])"
      ]
     },
     "execution_count": 43,
     "metadata": {},
     "output_type": "execute_result"
    }
   ],
   "source": [
    "# get a prediction using my model\n",
    "my_model.predict([[4, 64, 6.1, 64, 48, 4000, 0, 0, 1, 0, 0, 0]])"
   ]
  },
  {
   "cell_type": "code",
   "execution_count": 44,
   "id": "e21c73ca-53af-4525-bfab-fb552604b8ba",
   "metadata": {},
   "outputs": [
    {
     "name": "stderr",
     "output_type": "stream",
     "text": [
      "C:\\Users\\gshpe\\AppData\\Local\\Programs\\Python\\Python311\\Lib\\site-packages\\sklearn\\base.py:465: UserWarning: X does not have valid feature names, but DecisionTreeRegressor was fitted with feature names\n",
      "  warnings.warn(\n"
     ]
    },
    {
     "data": {
      "text/plain": [
       "array([899.])"
      ]
     },
     "execution_count": 44,
     "metadata": {},
     "output_type": "execute_result"
    }
   ],
   "source": [
    "my_model.predict([[4, 64, 6.1, 64, 48, 4000, 1, 0, 0, 0, 0, 0]])"
   ]
  },
  {
   "cell_type": "code",
   "execution_count": null,
   "id": "0bd0c07c-b206-4807-bfba-fdba08807a6d",
   "metadata": {},
   "outputs": [],
   "source": [
    "\n"
   ]
  },
  {
   "cell_type": "code",
   "execution_count": null,
   "id": "8ac09f79-0265-413e-a023-8fe0f6f4bb6b",
   "metadata": {},
   "outputs": [],
   "source": []
  }
 ],
 "metadata": {
  "kernelspec": {
   "display_name": "Python 3 (ipykernel)",
   "language": "python",
   "name": "python3"
  },
  "language_info": {
   "codemirror_mode": {
    "name": "ipython",
    "version": 3
   },
   "file_extension": ".py",
   "mimetype": "text/x-python",
   "name": "python",
   "nbconvert_exporter": "python",
   "pygments_lexer": "ipython3",
   "version": "3.11.3"
  }
 },
 "nbformat": 4,
 "nbformat_minor": 5
}
